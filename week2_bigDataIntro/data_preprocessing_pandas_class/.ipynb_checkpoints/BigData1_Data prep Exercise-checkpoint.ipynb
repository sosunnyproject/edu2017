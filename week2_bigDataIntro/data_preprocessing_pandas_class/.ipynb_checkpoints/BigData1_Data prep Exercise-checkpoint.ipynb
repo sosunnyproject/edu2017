{
 "cells": [
  {
   "cell_type": "code",
   "execution_count": 1,
   "metadata": {},
   "outputs": [
    {
     "data": {
      "text/html": [
       "<div>\n",
       "<style>\n",
       "    .dataframe thead tr:only-child th {\n",
       "        text-align: right;\n",
       "    }\n",
       "\n",
       "    .dataframe thead th {\n",
       "        text-align: left;\n",
       "    }\n",
       "\n",
       "    .dataframe tbody tr th {\n",
       "        vertical-align: top;\n",
       "    }\n",
       "</style>\n",
       "<table border=\"1\" class=\"dataframe\">\n",
       "  <thead>\n",
       "    <tr style=\"text-align: right;\">\n",
       "      <th></th>\n",
       "      <th>Survived</th>\n",
       "      <th>Pclass</th>\n",
       "      <th>Name</th>\n",
       "      <th>Sex</th>\n",
       "      <th>Age</th>\n",
       "      <th>SibSp</th>\n",
       "      <th>Parch</th>\n",
       "      <th>Ticket</th>\n",
       "      <th>Fare</th>\n",
       "      <th>Cabin</th>\n",
       "      <th>Embarked</th>\n",
       "    </tr>\n",
       "    <tr>\n",
       "      <th>PassengerId</th>\n",
       "      <th></th>\n",
       "      <th></th>\n",
       "      <th></th>\n",
       "      <th></th>\n",
       "      <th></th>\n",
       "      <th></th>\n",
       "      <th></th>\n",
       "      <th></th>\n",
       "      <th></th>\n",
       "      <th></th>\n",
       "      <th></th>\n",
       "    </tr>\n",
       "  </thead>\n",
       "  <tbody>\n",
       "    <tr>\n",
       "      <th>1</th>\n",
       "      <td>0</td>\n",
       "      <td>3</td>\n",
       "      <td>Braund, Mr. Owen Harris</td>\n",
       "      <td>male</td>\n",
       "      <td>22.0</td>\n",
       "      <td>1</td>\n",
       "      <td>0</td>\n",
       "      <td>A/5 21171</td>\n",
       "      <td>7.2500</td>\n",
       "      <td>NaN</td>\n",
       "      <td>S</td>\n",
       "    </tr>\n",
       "    <tr>\n",
       "      <th>2</th>\n",
       "      <td>1</td>\n",
       "      <td>1</td>\n",
       "      <td>Cumings, Mrs. John Bradley (Florence Briggs Th...</td>\n",
       "      <td>female</td>\n",
       "      <td>38.0</td>\n",
       "      <td>1</td>\n",
       "      <td>0</td>\n",
       "      <td>PC 17599</td>\n",
       "      <td>71.2833</td>\n",
       "      <td>C85</td>\n",
       "      <td>C</td>\n",
       "    </tr>\n",
       "    <tr>\n",
       "      <th>3</th>\n",
       "      <td>1</td>\n",
       "      <td>3</td>\n",
       "      <td>Heikkinen, Miss. Laina</td>\n",
       "      <td>female</td>\n",
       "      <td>26.0</td>\n",
       "      <td>0</td>\n",
       "      <td>0</td>\n",
       "      <td>STON/O2. 3101282</td>\n",
       "      <td>7.9250</td>\n",
       "      <td>NaN</td>\n",
       "      <td>S</td>\n",
       "    </tr>\n",
       "    <tr>\n",
       "      <th>4</th>\n",
       "      <td>1</td>\n",
       "      <td>1</td>\n",
       "      <td>Futrelle, Mrs. Jacques Heath (Lily May Peel)</td>\n",
       "      <td>female</td>\n",
       "      <td>35.0</td>\n",
       "      <td>1</td>\n",
       "      <td>0</td>\n",
       "      <td>113803</td>\n",
       "      <td>53.1000</td>\n",
       "      <td>C123</td>\n",
       "      <td>S</td>\n",
       "    </tr>\n",
       "    <tr>\n",
       "      <th>5</th>\n",
       "      <td>0</td>\n",
       "      <td>3</td>\n",
       "      <td>Allen, Mr. William Henry</td>\n",
       "      <td>male</td>\n",
       "      <td>35.0</td>\n",
       "      <td>0</td>\n",
       "      <td>0</td>\n",
       "      <td>373450</td>\n",
       "      <td>8.0500</td>\n",
       "      <td>NaN</td>\n",
       "      <td>S</td>\n",
       "    </tr>\n",
       "  </tbody>\n",
       "</table>\n",
       "</div>"
      ],
      "text/plain": [
       "             Survived  Pclass  \\\n",
       "PassengerId                     \n",
       "1                   0       3   \n",
       "2                   1       1   \n",
       "3                   1       3   \n",
       "4                   1       1   \n",
       "5                   0       3   \n",
       "\n",
       "                                                          Name     Sex   Age  \\\n",
       "PassengerId                                                                    \n",
       "1                                      Braund, Mr. Owen Harris    male  22.0   \n",
       "2            Cumings, Mrs. John Bradley (Florence Briggs Th...  female  38.0   \n",
       "3                                       Heikkinen, Miss. Laina  female  26.0   \n",
       "4                 Futrelle, Mrs. Jacques Heath (Lily May Peel)  female  35.0   \n",
       "5                                     Allen, Mr. William Henry    male  35.0   \n",
       "\n",
       "             SibSp  Parch            Ticket     Fare Cabin Embarked  \n",
       "PassengerId                                                          \n",
       "1                1      0         A/5 21171   7.2500   NaN        S  \n",
       "2                1      0          PC 17599  71.2833   C85        C  \n",
       "3                0      0  STON/O2. 3101282   7.9250   NaN        S  \n",
       "4                1      0            113803  53.1000  C123        S  \n",
       "5                0      0            373450   8.0500   NaN        S  "
      ]
     },
     "execution_count": 1,
     "metadata": {},
     "output_type": "execute_result"
    }
   ],
   "source": [
    "import pandas as pd\n",
    "import numpy as np\n",
    "url = 'https://raw.githubusercontent.com/justmarkham/DAT8/master/data/titanic.csv'\n",
    "titanic = pd.read_csv(url, index_col='PassengerId')\n",
    "titanic.head()"
   ]
  },
  {
   "cell_type": "markdown",
   "metadata": {},
   "source": [
    "### Exercise 1"
   ]
  },
  {
   "cell_type": "markdown",
   "metadata": {},
   "source": [
    "Impute the missing values of the age and Embarked"
   ]
  },
  {
   "cell_type": "markdown",
   "metadata": {},
   "source": [
    "### Exercise 2"
   ]
  },
  {
   "cell_type": "markdown",
   "metadata": {},
   "source": [
    "Convert the Sex and Embarked to catogorical features"
   ]
  },
  {
   "cell_type": "markdown",
   "metadata": {},
   "source": [
    "### Exercise 3"
   ]
  },
  {
   "cell_type": "markdown",
   "metadata": {},
   "source": [
    "From the set of features ['Pclass', 'Sex', 'Age', 'SibSp', 'Parch', 'Fare', 'Embarked']\n",
    "\n",
    "*Note, use the created categorical features for Sex and Embarked\n",
    "\n",
    "Select the features that maximize the accuracy the model using K-Fold cross-validation"
   ]
  },
  {
   "cell_type": "code",
   "execution_count": 2,
   "metadata": {
    "collapsed": true
   },
   "outputs": [],
   "source": [
    "y = titanic['Survived']\n",
    "features = ['Pclass', 'Age', 'Parch', 'Sex_Female', 'Embarked_Q', 'Embarked_S']"
   ]
  },
  {
   "cell_type": "code",
   "execution_count": 3,
   "metadata": {},
   "outputs": [
    {
     "data": {
      "text/plain": [
       "[('Pclass',),\n",
       " ('Age',),\n",
       " ('Parch',),\n",
       " ('Sex_Female',),\n",
       " ('Embarked_Q',),\n",
       " ('Embarked_S',),\n",
       " ('Pclass', 'Age'),\n",
       " ('Pclass', 'Parch'),\n",
       " ('Pclass', 'Sex_Female'),\n",
       " ('Pclass', 'Embarked_Q'),\n",
       " ('Pclass', 'Embarked_S'),\n",
       " ('Age', 'Parch'),\n",
       " ('Age', 'Sex_Female'),\n",
       " ('Age', 'Embarked_Q'),\n",
       " ('Age', 'Embarked_S'),\n",
       " ('Parch', 'Sex_Female'),\n",
       " ('Parch', 'Embarked_Q'),\n",
       " ('Parch', 'Embarked_S'),\n",
       " ('Sex_Female', 'Embarked_Q'),\n",
       " ('Sex_Female', 'Embarked_S'),\n",
       " ('Embarked_Q', 'Embarked_S'),\n",
       " ('Pclass', 'Age', 'Parch'),\n",
       " ('Pclass', 'Age', 'Sex_Female'),\n",
       " ('Pclass', 'Age', 'Embarked_Q'),\n",
       " ('Pclass', 'Age', 'Embarked_S'),\n",
       " ('Pclass', 'Parch', 'Sex_Female'),\n",
       " ('Pclass', 'Parch', 'Embarked_Q'),\n",
       " ('Pclass', 'Parch', 'Embarked_S'),\n",
       " ('Pclass', 'Sex_Female', 'Embarked_Q'),\n",
       " ('Pclass', 'Sex_Female', 'Embarked_S'),\n",
       " ('Pclass', 'Embarked_Q', 'Embarked_S'),\n",
       " ('Age', 'Parch', 'Sex_Female'),\n",
       " ('Age', 'Parch', 'Embarked_Q'),\n",
       " ('Age', 'Parch', 'Embarked_S'),\n",
       " ('Age', 'Sex_Female', 'Embarked_Q'),\n",
       " ('Age', 'Sex_Female', 'Embarked_S'),\n",
       " ('Age', 'Embarked_Q', 'Embarked_S'),\n",
       " ('Parch', 'Sex_Female', 'Embarked_Q'),\n",
       " ('Parch', 'Sex_Female', 'Embarked_S'),\n",
       " ('Parch', 'Embarked_Q', 'Embarked_S'),\n",
       " ('Sex_Female', 'Embarked_Q', 'Embarked_S'),\n",
       " ('Pclass', 'Age', 'Parch', 'Sex_Female'),\n",
       " ('Pclass', 'Age', 'Parch', 'Embarked_Q'),\n",
       " ('Pclass', 'Age', 'Parch', 'Embarked_S'),\n",
       " ('Pclass', 'Age', 'Sex_Female', 'Embarked_Q'),\n",
       " ('Pclass', 'Age', 'Sex_Female', 'Embarked_S'),\n",
       " ('Pclass', 'Age', 'Embarked_Q', 'Embarked_S'),\n",
       " ('Pclass', 'Parch', 'Sex_Female', 'Embarked_Q'),\n",
       " ('Pclass', 'Parch', 'Sex_Female', 'Embarked_S'),\n",
       " ('Pclass', 'Parch', 'Embarked_Q', 'Embarked_S'),\n",
       " ('Pclass', 'Sex_Female', 'Embarked_Q', 'Embarked_S'),\n",
       " ('Age', 'Parch', 'Sex_Female', 'Embarked_Q'),\n",
       " ('Age', 'Parch', 'Sex_Female', 'Embarked_S'),\n",
       " ('Age', 'Parch', 'Embarked_Q', 'Embarked_S'),\n",
       " ('Age', 'Sex_Female', 'Embarked_Q', 'Embarked_S'),\n",
       " ('Parch', 'Sex_Female', 'Embarked_Q', 'Embarked_S'),\n",
       " ('Pclass', 'Age', 'Parch', 'Sex_Female', 'Embarked_Q'),\n",
       " ('Pclass', 'Age', 'Parch', 'Sex_Female', 'Embarked_S'),\n",
       " ('Pclass', 'Age', 'Parch', 'Embarked_Q', 'Embarked_S'),\n",
       " ('Pclass', 'Age', 'Sex_Female', 'Embarked_Q', 'Embarked_S'),\n",
       " ('Pclass', 'Parch', 'Sex_Female', 'Embarked_Q', 'Embarked_S'),\n",
       " ('Age', 'Parch', 'Sex_Female', 'Embarked_Q', 'Embarked_S'),\n",
       " ('Pclass', 'Age', 'Parch', 'Sex_Female', 'Embarked_Q', 'Embarked_S')]"
      ]
     },
     "execution_count": 3,
     "metadata": {},
     "output_type": "execute_result"
    }
   ],
   "source": [
    "import itertools\n",
    "\n",
    "possible_models = []\n",
    "for i in range(1,len(features)+1):\n",
    "    possible_models.extend(list(itertools.combinations(features,i)))\n",
    "\n",
    "possible_models"
   ]
  },
  {
   "cell_type": "code",
   "execution_count": 4,
   "metadata": {
    "collapsed": true
   },
   "outputs": [],
   "source": [
    "from sklearn.linear_model import LogisticRegression\n",
    "from sklearn.model_selection import cross_val_score\n",
    "logreg = LogisticRegression(C=1e9)\n",
    "\n",
    "# Todo"
   ]
  },
  {
   "cell_type": "code",
   "execution_count": null,
   "metadata": {
    "collapsed": true
   },
   "outputs": [],
   "source": []
  }
 ],
 "metadata": {
  "kernelspec": {
   "display_name": "Python 2",
   "language": "python",
   "name": "python2"
  },
  "language_info": {
   "codemirror_mode": {
    "name": "ipython",
    "version": 2
   },
   "file_extension": ".py",
   "mimetype": "text/x-python",
   "name": "python",
   "nbconvert_exporter": "python",
   "pygments_lexer": "ipython2",
   "version": "2.7.13"
  }
 },
 "nbformat": 4,
 "nbformat_minor": 2
}
