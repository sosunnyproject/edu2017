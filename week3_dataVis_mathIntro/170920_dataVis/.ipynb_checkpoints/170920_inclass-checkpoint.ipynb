{
 "cells": [
  {
   "cell_type": "markdown",
   "metadata": {},
   "source": [
    "matplotlib\n",
    "installing python3 modules: sudo apt-get install python3-numpy"
   ]
  },
  {
   "cell_type": "markdown",
   "metadata": {},
   "source": [
    "pandas\n",
    "DataFrame.plot()\n",
    "df = DataFrame(....)\n",
    "df.plot() #visualize \n",
    "한꺼번에 데이터를 표현하고 싶을때 데이터프레임 사용해서 그래프로 한눈에 보기\n",
    "\n",
    "plot 한 다음에, histogram으로 만들어주기\n",
    "figsize 바꾸면 차트 크기 사이즈 변경 가능"
   ]
  },
  {
   "cell_type": "code",
   "execution_count": null,
   "metadata": {
    "collapsed": true
   },
   "outputs": [],
   "source": []
  }
 ],
 "metadata": {
  "kernelspec": {
   "display_name": "Python 3",
   "language": "python",
   "name": "python3"
  },
  "language_info": {
   "codemirror_mode": {
    "name": "ipython",
    "version": 3
   },
   "file_extension": ".py",
   "mimetype": "text/x-python",
   "name": "python",
   "nbconvert_exporter": "python",
   "pygments_lexer": "ipython3",
   "version": "3.4.3"
  }
 },
 "nbformat": 4,
 "nbformat_minor": 2
}
