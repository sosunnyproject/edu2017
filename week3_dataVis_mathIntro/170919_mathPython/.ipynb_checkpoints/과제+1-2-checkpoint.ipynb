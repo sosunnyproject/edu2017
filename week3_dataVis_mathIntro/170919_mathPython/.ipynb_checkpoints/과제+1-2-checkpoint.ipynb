{
 "cells": [
  {
   "cell_type": "markdown",
   "metadata": {},
   "source": [
    "# 과제 1"
   ]
  },
  {
   "cell_type": "markdown",
   "metadata": {},
   "source": [
    "## 1. 다음의 확률 분포를 따르는 확률 변수의 표본 10000개를 구한 뒤 분포도를 그리세요."
   ]
  },
  {
   "cell_type": "markdown",
   "metadata": {},
   "source": [
    "    1. B(1,0.5)"
   ]
  },
  {
   "cell_type": "code",
   "execution_count": null,
   "metadata": {
    "collapsed": true
   },
   "outputs": [],
   "source": []
  },
  {
   "cell_type": "markdown",
   "metadata": {},
   "source": [
    "    2. N(1,1)"
   ]
  },
  {
   "cell_type": "code",
   "execution_count": null,
   "metadata": {
    "collapsed": true
   },
   "outputs": [],
   "source": []
  },
  {
   "cell_type": "markdown",
   "metadata": {},
   "source": [
    "    3. 1/2의 확률로 N(1,1)과 N(3,2^2)를 따르는 분포 "
   ]
  },
  {
   "cell_type": "code",
   "execution_count": null,
   "metadata": {
    "collapsed": true
   },
   "outputs": [],
   "source": []
  },
  {
   "cell_type": "markdown",
   "metadata": {},
   "source": [
    "## 2. 다음을 구하세요."
   ]
  },
  {
   "cell_type": "markdown",
   "metadata": {},
   "source": [
    "### 2-1. 5개의 샘플을 이용한 가설 검정을 시행하세요."
   ]
  },
  {
   "cell_type": "markdown",
   "metadata": {},
   "source": [
    "    2-1-1. N(0.1,1)을 따르는 정규분포에서 5개의 샘플을 구하세요."
   ]
  },
  {
   "cell_type": "code",
   "execution_count": null,
   "metadata": {
    "ExecuteTime": {
     "end_time": "2017-09-18T18:23:48.807957Z",
     "start_time": "2017-09-19T03:23:48.804133+09:00"
    },
    "collapsed": true
   },
   "outputs": [],
   "source": []
  },
  {
   "cell_type": "markdown",
   "metadata": {},
   "source": [
    "    2-1-2. 2-1-1에서 구한 데이터를 이용하여 유의도 0.05를 가지는 다음의 가설 검정을 시행하세요.\n",
    "   1. $H_0:$ 평균 = 0\n",
    "   2. $H_1:$ 평균 > 0"
   ]
  },
  {
   "cell_type": "code",
   "execution_count": null,
   "metadata": {
    "ExecuteTime": {
     "end_time": "2017-09-18T18:14:27.733165Z",
     "start_time": "2017-09-19T03:14:27.725925+09:00"
    }
   },
   "outputs": [],
   "source": []
  },
  {
   "cell_type": "markdown",
   "metadata": {},
   "source": [
    "### 2-2. 100개의 샘플을 이용한 가설 검정을 시행하세요."
   ]
  },
  {
   "cell_type": "markdown",
   "metadata": {
    "ExecuteTime": {
     "end_time": "2017-09-18T17:56:17.689529Z",
     "start_time": "2017-09-19T02:56:17.686531+09:00"
    },
    "collapsed": true
   },
   "source": [
    "    2-2-1. N(0.1,1)을 따르는 정규분포에서 100개의 샘플을 구하세요."
   ]
  },
  {
   "cell_type": "code",
   "execution_count": null,
   "metadata": {
    "ExecuteTime": {
     "end_time": "2017-09-18T18:14:46.198075Z",
     "start_time": "2017-09-19T03:14:46.194409+09:00"
    },
    "collapsed": true
   },
   "outputs": [],
   "source": []
  },
  {
   "cell_type": "markdown",
   "metadata": {},
   "source": [
    "    2-2-2. 2-2-1에서 구한 데이터를 이용하여 유의도 0.05를 가지는 다음의 가설 검정을 시행하세요.\n",
    "   1. $H_0:$ 평균 = 0\n",
    "   2. $H_1:$ 평균 > 0"
   ]
  },
  {
   "cell_type": "code",
   "execution_count": null,
   "metadata": {
    "ExecuteTime": {
     "end_time": "2017-09-18T18:14:47.962895Z",
     "start_time": "2017-09-19T03:14:47.955173+09:00"
    }
   },
   "outputs": [],
   "source": []
  },
  {
   "cell_type": "markdown",
   "metadata": {},
   "source": [
    "### 2-3. 1000개의 샘플을 이용한 가설 검정을 시행하세요."
   ]
  },
  {
   "cell_type": "markdown",
   "metadata": {},
   "source": [
    "    2-2-1. N(0.1,1)을 따르는 정규분포에서 1000개의 샘플을 구하세요."
   ]
  },
  {
   "cell_type": "code",
   "execution_count": null,
   "metadata": {
    "ExecuteTime": {
     "end_time": "2017-09-18T18:24:16.347874Z",
     "start_time": "2017-09-19T03:24:16.344230+09:00"
    },
    "collapsed": true
   },
   "outputs": [],
   "source": []
  },
  {
   "cell_type": "markdown",
   "metadata": {},
   "source": [
    "    2-2-2. 2-2-1에서 구한 데이터를 이용하여 유의도 0.05를 가지는 다음의 가설 검정을 시행하세요.\n",
    "   1. $H_0:$ 평균 = 0\n",
    "   2. $H_1:$ 평균 > 0"
   ]
  },
  {
   "cell_type": "code",
   "execution_count": null,
   "metadata": {
    "ExecuteTime": {
     "end_time": "2017-09-18T18:19:56.692576Z",
     "start_time": "2017-09-19T03:19:56.683503+09:00"
    }
   },
   "outputs": [],
   "source": []
  },
  {
   "cell_type": "markdown",
   "metadata": {},
   "source": [
    "## 3. 다음을 구하세요."
   ]
  },
  {
   "cell_type": "markdown",
   "metadata": {},
   "source": [
    "### 3-1. 2에서 시행한 가설 검증의 Type II error를 구하는 함수를 만들어 주세요."
   ]
  },
  {
   "cell_type": "markdown",
   "metadata": {},
   "source": [
    "1. 샘플의 개수(n), 유의도(alpha), 가설 검정 시행횟수(m)를 입력 변수로 가지는 함수를 만든다.\n",
    "2. 해당 함수의 return 값은 다음과 같다.\n",
    "        m번의 시행 횟수중 $H_0$를 accept한 검정 횟수의 비율."
   ]
  },
  {
   "cell_type": "code",
   "execution_count": null,
   "metadata": {
    "ExecuteTime": {
     "end_time": "2017-09-18T18:29:58.363757Z",
     "start_time": "2017-09-19T03:29:57.948897+09:00"
    }
   },
   "outputs": [],
   "source": []
  },
  {
   "cell_type": "markdown",
   "metadata": {},
   "source": [
    "### 3-2 m=10000, alpha=0.05이고, n이 각각 5, 100, 1000, 10000일때 Type II error의 확률을 구하세요."
   ]
  },
  {
   "cell_type": "code",
   "execution_count": null,
   "metadata": {
    "ExecuteTime": {
     "end_time": "2017-09-18T18:31:22.595030Z",
     "start_time": "2017-09-19T03:31:03.688274+09:00"
    }
   },
   "outputs": [],
   "source": []
  }
 ],
 "metadata": {
  "kernelspec": {
   "display_name": "Python 3",
   "language": "python",
   "name": "python3"
  },
  "language_info": {
   "codemirror_mode": {
    "name": "ipython",
    "version": 3
   },
   "file_extension": ".py",
   "mimetype": "text/x-python",
   "name": "python",
   "nbconvert_exporter": "python",
   "pygments_lexer": "ipython3",
   "version": "3.4.3"
  }
 },
 "nbformat": 4,
 "nbformat_minor": 2
}
