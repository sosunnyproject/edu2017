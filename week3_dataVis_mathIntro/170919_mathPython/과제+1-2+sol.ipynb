{
 "cells": [
  {
   "cell_type": "markdown",
   "metadata": {
    "deletable": true,
    "editable": true
   },
   "source": [
    "# 과제 1"
   ]
  },
  {
   "cell_type": "markdown",
   "metadata": {
    "deletable": true,
    "editable": true
   },
   "source": [
    "## 1. 다음의 확률 분포를 따르는 확률 변수의 표본 10000개를 구한 뒤 분포도를 그리세요.\n",
    "\n",
    "1. B(1,0.5)\n",
    "2. N(1,1)\n",
    "3. 1/2의 확률로 N(1,1)과 N(3,2^2)를 따르는 분포 "
   ]
  },
  {
   "cell_type": "code",
   "execution_count": 1,
   "metadata": {
    "ExecuteTime": {
     "end_time": "2017-09-18T17:55:54.719093Z",
     "start_time": "2017-09-19T02:55:49.790508+09:00"
    },
    "collapsed": true,
    "deletable": true,
    "editable": true
   },
   "outputs": [],
   "source": [
    "import pandas as pd\n",
    "import numpy as np\n",
    "import matplotlib.pyplot as plt\n",
    "import statsmodels.api as sm\n",
    "import scipy.stats as stats\n",
    "from datetime import datetime"
   ]
  },
  {
   "cell_type": "code",
   "execution_count": 13,
   "metadata": {
    "ExecuteTime": {
     "end_time": "2017-09-18T08:07:51.823306Z",
     "start_time": "2017-09-18T17:07:51.820366+09:00"
    },
    "collapsed": true,
    "deletable": true,
    "editable": true
   },
   "outputs": [],
   "source": [
    "n=10000"
   ]
  },
  {
   "cell_type": "code",
   "execution_count": 14,
   "metadata": {
    "ExecuteTime": {
     "end_time": "2017-09-18T08:07:53.231452Z",
     "start_time": "2017-09-18T17:07:52.966718+09:00"
    },
    "collapsed": false,
    "deletable": true,
    "editable": true
   },
   "outputs": [
    {
     "data": {
      "image/png": "[encoded data removed]",
      "text/plain": [
       "<matplotlib.figure.Figure at 0x7f98739b4d68>"
      ]
     },
     "metadata": {},
     "output_type": "display_data"
    }
   ],
   "source": [
    "p=0.5\n",
    "x=stats.binom.rvs(1,p,size=n)\n",
    "plt.hist(x)\n",
    "plt.show()"
   ]
  },
  {
   "cell_type": "code",
   "execution_count": 15,
   "metadata": {
    "ExecuteTime": {
     "end_time": "2017-09-18T08:07:57.434012Z",
     "start_time": "2017-09-18T17:07:57.092460+09:00"
    },
    "collapsed": false,
    "deletable": true,
    "editable": true
   },
   "outputs": [
    {
     "data": {
      "image/png": "[encoded data removed]",
      "text/plain": [
       "<matplotlib.figure.Figure at 0x7f98738bd4e0>"
      ]
     },
     "metadata": {},
     "output_type": "display_data"
    }
   ],
   "source": [
    "x=stats.norm.rvs(1,1,size=n)\n",
    "plt.hist(x)\n",
    "plt.show()"
   ]
  },
  {
   "cell_type": "code",
   "execution_count": 21,
   "metadata": {
    "ExecuteTime": {
     "end_time": "2017-09-18T08:11:58.088550Z",
     "start_time": "2017-09-18T17:11:57.179744+09:00"
    },
    "collapsed": false,
    "deletable": true,
    "editable": true
   },
   "outputs": [
    {
     "data": {
      "image/png": "[encoded data removed]",
      "text/plain": [
       "<matplotlib.figure.Figure at 0x7f9873616c18>"
      ]
     },
     "metadata": {},
     "output_type": "display_data"
    }
   ],
   "source": [
    "p=0.5\n",
    "y=stats.binom.rvs(n,p,size=1)\n",
    "x1 = stats.norm.rvs(1,1,size=y)\n",
    "x2 = stats.norm.rvs(4,2,size=n-y)\n",
    "plt.hist(x2, bins=80, alpha=0.5)\n",
    "plt.hist(x1, bins=80, alpha=0.5)\n",
    "plt.show()"
   ]
  },
  {
   "cell_type": "markdown",
   "metadata": {
    "deletable": true,
    "editable": true
   },
   "source": [
    "## 2. 다음을 구하세요."
   ]
  },
  {
   "cell_type": "markdown",
   "metadata": {},
   "source": [
    "### 2-1. 5개의 샘플을 이용한 가설 검정을 시행하세요."
   ]
  },
  {
   "cell_type": "markdown",
   "metadata": {},
   "source": [
    "    2-1-1. N(0.1,1)을 따르는 정규분포에서 5개의 샘플을 구하세요."
   ]
  },
  {
   "cell_type": "code",
   "execution_count": 55,
   "metadata": {
    "ExecuteTime": {
     "end_time": "2017-09-18T18:23:48.807957Z",
     "start_time": "2017-09-19T03:23:48.804133+09:00"
    },
    "collapsed": true
   },
   "outputs": [],
   "source": [
    "n=5\n",
    "x=stats.norm.rvs(0.1,1,n)"
   ]
  },
  {
   "cell_type": "markdown",
   "metadata": {},
   "source": [
    "    2-1-2. 2-1-1에서 구한 데이터를 이용하여 유의도 0.05를 가지는 다음의 가설 검정을 시행하세요.\n",
    "   1. $H_0:$ 평균 = 0\n",
    "   2. $H_1:$ 평균 > 0"
   ]
  },
  {
   "cell_type": "code",
   "execution_count": 47,
   "metadata": {
    "ExecuteTime": {
     "end_time": "2017-09-18T18:14:27.733165Z",
     "start_time": "2017-09-19T03:14:27.725925+09:00"
    },
    "collapsed": false
   },
   "outputs": [
    {
     "name": "stdout",
     "output_type": "stream",
     "text": [
      "p-value is 0.40604391074540547. Thus we accept H_0\n"
     ]
    }
   ],
   "source": [
    "alpha=0.05\n",
    "mu = np.mean(x)\n",
    "Z = np.sqrt(n)*(mu - 0)\n",
    "p_val = 1 - stats.norm.cdf(Z)\n",
    "if p_val < alpha:\n",
    "    print(\"p-value is {}. Thus we reject H_0\".format(p_val))\n",
    "else:\n",
    "    print(\"p-value is {}. Thus we accept H_0\".format(p_val))"
   ]
  },
  {
   "cell_type": "markdown",
   "metadata": {
    "deletable": true,
    "editable": true
   },
   "source": [
    "### 2-2. 100개의 샘플을 이용한 가설 검정을 시행하세요."
   ]
  },
  {
   "cell_type": "markdown",
   "metadata": {
    "ExecuteTime": {
     "end_time": "2017-09-18T17:56:17.689529Z",
     "start_time": "2017-09-19T02:56:17.686531+09:00"
    },
    "collapsed": true,
    "deletable": true,
    "editable": true
   },
   "source": [
    "    2-2-1. N(0.1,1)을 따르는 정규분포에서 100개의 샘플을 구하세요."
   ]
  },
  {
   "cell_type": "code",
   "execution_count": 48,
   "metadata": {
    "ExecuteTime": {
     "end_time": "2017-09-18T18:14:46.198075Z",
     "start_time": "2017-09-19T03:14:46.194409+09:00"
    },
    "collapsed": true
   },
   "outputs": [],
   "source": [
    "n=100\n",
    "x=stats.norm.rvs(0.1,1,n)"
   ]
  },
  {
   "cell_type": "markdown",
   "metadata": {},
   "source": [
    "    2-2-2. 2-2-1에서 구한 데이터를 이용하여 유의도 0.05를 가지는 다음의 가설 검정을 시행하세요.\n",
    "   1. $H_0:$ 평균 = 0\n",
    "   2. $H_1:$ 평균 > 0"
   ]
  },
  {
   "cell_type": "code",
   "execution_count": 49,
   "metadata": {
    "ExecuteTime": {
     "end_time": "2017-09-18T18:14:47.962895Z",
     "start_time": "2017-09-19T03:14:47.955173+09:00"
    },
    "collapsed": false
   },
   "outputs": [
    {
     "name": "stdout",
     "output_type": "stream",
     "text": [
      "p-value is 0.35440942498827144. Thus we accept H_0\n"
     ]
    }
   ],
   "source": [
    "alpha=0.05\n",
    "mu = np.mean(x)\n",
    "Z = np.sqrt(n)*(mu - 0)\n",
    "p_val = 1 - stats.norm.cdf(Z)\n",
    "if p_val < alpha:\n",
    "    print(\"p-value is {}. Thus we reject H_0\".format(p_val))\n",
    "else:\n",
    "    print(\"p-value is {}. Thus we accept H_0\".format(p_val))"
   ]
  },
  {
   "cell_type": "markdown",
   "metadata": {},
   "source": [
    "### 2-3. 1000개의 샘플을 이용한 가설 검정을 시행하세요."
   ]
  },
  {
   "cell_type": "markdown",
   "metadata": {},
   "source": [
    "    2-2-1. N(0.1,1)을 따르는 정규분포에서 1000개의 샘플을 구하세요."
   ]
  },
  {
   "cell_type": "code",
   "execution_count": 56,
   "metadata": {
    "ExecuteTime": {
     "end_time": "2017-09-18T18:24:16.347874Z",
     "start_time": "2017-09-19T03:24:16.344230+09:00"
    },
    "collapsed": true
   },
   "outputs": [],
   "source": [
    "n=1000\n",
    "x=stats.norm.rvs(0.1,1,n)"
   ]
  },
  {
   "cell_type": "markdown",
   "metadata": {},
   "source": [
    "    2-2-2. 2-2-1에서 구한 데이터를 이용하여 유의도 0.05를 가지는 다음의 가설 검정을 시행하세요.\n",
    "   1. $H_0:$ 평균 = 0\n",
    "   2. $H_1:$ 평균 > 0"
   ]
  },
  {
   "cell_type": "code",
   "execution_count": 54,
   "metadata": {
    "ExecuteTime": {
     "end_time": "2017-09-18T18:19:56.692576Z",
     "start_time": "2017-09-19T03:19:56.683503+09:00"
    },
    "collapsed": false
   },
   "outputs": [
    {
     "name": "stdout",
     "output_type": "stream",
     "text": [
      "p-value is 0.0006367464497322173. Thus we reject H_0\n"
     ]
    }
   ],
   "source": [
    "alpha=0.05\n",
    "mu = np.mean(x)\n",
    "Z = np.sqrt(n)*(mu - 0)\n",
    "p_val = 1 - stats.norm.cdf(Z)\n",
    "if p_val < alpha:\n",
    "    print(\"p-value is {}. Thus we reject H_0\".format(p_val))\n",
    "else:\n",
    "    print(\"p-value is {}. Thus we accept H_0\".format(p_val))"
   ]
  },
  {
   "cell_type": "markdown",
   "metadata": {},
   "source": [
    "## 3. 다음을 구하세요."
   ]
  },
  {
   "cell_type": "markdown",
   "metadata": {},
   "source": [
    "### 3-1. 2에서 시행한 가설 검증의 Type II error를 구하는 함수를 만들어 주세요."
   ]
  },
  {
   "cell_type": "markdown",
   "metadata": {},
   "source": [
    "1. 샘플의 개수(n), 유의도(alpha), 가설 검정 시행횟수(m)를 입력 변수로 가지는 함수를 만든다.\n",
    "2. 해당 함수의 return 값은 다음과 같다.\n",
    "        m번의 시행 횟수중 $H_0$를 accept한 검정 횟수의 비율."
   ]
  },
  {
   "cell_type": "code",
   "execution_count": 64,
   "metadata": {
    "ExecuteTime": {
     "end_time": "2017-09-18T18:29:58.363757Z",
     "start_time": "2017-09-19T03:29:57.948897+09:00"
    },
    "collapsed": false
   },
   "outputs": [
    {
     "data": {
      "text/plain": [
       "0.069"
      ]
     },
     "execution_count": 64,
     "metadata": {},
     "output_type": "execute_result"
    }
   ],
   "source": [
    "def hypo(n,alpha,m):\n",
    "    Type_2_count = 0\n",
    "    for i in range(m):\n",
    "        x=stats.norm.rvs(0.1,1,n)\n",
    "        mu = np.mean(x)\n",
    "        Z = np.sqrt(n)*(mu - 0)\n",
    "        p_val = 1 - stats.norm.cdf(Z)\n",
    "        if p_val >= alpha:\n",
    "            Type_2_count += 1\n",
    "    \n",
    "    return Type_2_count/m"
   ]
  },
  {
   "cell_type": "markdown",
   "metadata": {},
   "source": [
    "### 3-2 m=10000, alpha=0.05이고, n이 각각 5, 100, 1000, 10000일때 Type II error의 확률을 구하세요."
   ]
  },
  {
   "cell_type": "code",
   "execution_count": 68,
   "metadata": {
    "ExecuteTime": {
     "end_time": "2017-09-18T18:31:22.595030Z",
     "start_time": "2017-09-19T03:31:03.688274+09:00"
    },
    "collapsed": false
   },
   "outputs": [
    {
     "name": "stdout",
     "output_type": "stream",
     "text": [
      "n = 5 : Probability of 'Type II error' is 0.9256\n",
      "n = 100 : Probability of 'Type II error' is 0.7426\n",
      "n = 1000 : Probability of 'Type II error' is 0.0668\n",
      "n = 10000 : Probability of 'Type II error' is 0.0\n"
     ]
    }
   ],
   "source": [
    "n=[5,100,1000,10000]\n",
    "m=10000\n",
    "alpha=0.05\n",
    "for i in range(len(n)):\n",
    "    print(\"n = {} : Probability of 'Type II error' is {}\".format(n[i], hypo(n[i],alpha,m)))\n"
   ]
  }
 ],
 "metadata": {
  "kernelspec": {
   "display_name": "Python 3",
   "language": "python",
   "name": "python3"
  },
  "language_info": {
   "codemirror_mode": {
    "name": "ipython",
    "version": 3
   },
   "file_extension": ".py",
   "mimetype": "text/x-python",
   "name": "python",
   "nbconvert_exporter": "python",
   "pygments_lexer": "ipython3",
   "version": "3.5.3"
  }
 },
 "nbformat": 4,
 "nbformat_minor": 2
}
