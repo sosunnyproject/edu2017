{
 "cells": [
  {
   "cell_type": "markdown",
   "metadata": {},
   "source": [
    "# Plotting and Visualization"
   ]
  },
  {
   "cell_type": "code",
   "execution_count": 1,
   "metadata": {
    "collapsed": true
   },
   "outputs": [],
   "source": [
    "from __future__ import division\n",
    "\n",
    "import numpy as np\n",
    "np.random.seed(12345)\n",
    "np.set_printoptions(precision=4)  #only possible for numpy\n",
    "\n",
    "import pandas as pd\n",
    "from pandas import Series, DataFrame\n",
    "\n",
    "import matplotlib.pyplot as plt\n",
    "# to do : matplotlib"
   ]
  },
  {
   "cell_type": "code",
   "execution_count": 3,
   "metadata": {},
   "outputs": [],
   "source": [
    "%matplotlib inline \n",
    "#ALWAYS in JUPYTER!!\n",
    "# to present graph\n",
    "\n",
    "plt.rc('figure', figsize=(10, 6))"
   ]
  },
  {
   "cell_type": "code",
   "execution_count": 4,
   "metadata": {
    "collapsed": true
   },
   "outputs": [],
   "source": [
    "add = %pwd"
   ]
  },
  {
   "cell_type": "markdown",
   "metadata": {},
   "source": [
    "Q1)Please read the data files."
   ]
  },
  {
   "cell_type": "code",
   "execution_count": 6,
   "metadata": {},
   "outputs": [],
   "source": [
    "df = pd.read_csv('donations.csv', low_memory=False)"
   ]
  },
  {
   "cell_type": "markdown",
   "metadata": {},
   "source": [
    "/usr/lib/python3/dist-packages/pandas/io/parsers.py:1070: DtypeWarning: Columns (6,12) have mixed types. Specify dtype option on import or set low_memory=False.\n",
    "  data = self._reader.read(nrows)"
   ]
  },
  {
   "cell_type": "code",
   "execution_count": 9,
   "metadata": {},
   "outputs": [],
   "source": [
    "data = open(add + '/donations.csv', 'r')\n",
    "df = pd.read_csv(data, low_memory = False)"
   ]
  },
  {
   "cell_type": "markdown",
   "metadata": {},
   "source": [
    "Q2) Please display the information on the data. How much data are we dealing with? What are the names of colums?"
   ]
  },
  {
   "cell_type": "code",
   "execution_count": 10,
   "metadata": {},
   "outputs": [
    {
     "name": "stdout",
     "output_type": "stream",
     "text": [
      "<class 'pandas.core.frame.DataFrame'>\n",
      "Int64Index: 4084074 entries, 0 to 4084073\n",
      "Data columns (total 16 columns):\n",
      "cmte_id              object\n",
      "cand_id              object\n",
      "cand_nm              object\n",
      "contbr_nm            object\n",
      "contbr_city          object\n",
      "contbr_st            object\n",
      "contbr_zip           object\n",
      "contbr_employer      object\n",
      "contbr_occupation    object\n",
      "contb_receipt_amt    float64\n",
      "contb_receipt_dt     object\n",
      "receipt_desc         object\n",
      "memo_cd              object\n",
      "memo_text            object\n",
      "form_tp              object\n",
      "file_num             int64\n",
      "dtypes: float64(1), int64(1), object(14)"
     ]
    }
   ],
   "source": [
    "df.info()"
   ]
  },
  {
   "cell_type": "markdown",
   "metadata": {},
   "source": [
    "The size of the data is huge. It is better to use a small data set.\n",
    "\n",
    "Q3) Make a sample of which the size is 4000. (HINT: numpy.random.choice())"
   ]
  },
  {
   "cell_type": "code",
   "execution_count": 11,
   "metadata": {
    "collapsed": true
   },
   "outputs": [],
   "source": [
    "rows = np.random.choice(df.index.values, 4000)\n",
    "sampled_df = df.ix[rows]"
   ]
  },
  {
   "cell_type": "code",
   "execution_count": 12,
   "metadata": {},
   "outputs": [
    {
     "name": "stdout",
     "output_type": "stream",
     "text": [
      "<class 'pandas.core.frame.DataFrame'>\n",
      "Int64Index: 4000 entries, 3887586 to 3099804\n",
      "Data columns (total 16 columns):\n",
      "cmte_id              4000 non-null object\n",
      "cand_id              4000 non-null object\n",
      "cand_nm              4000 non-null object\n",
      "contbr_nm            4000 non-null object\n",
      "contbr_city          4000 non-null object\n",
      "contbr_st            3992 non-null object\n",
      "contbr_zip           3988 non-null object\n",
      "contbr_employer      3754 non-null object\n",
      "contbr_occupation    3896 non-null object\n",
      "contb_receipt_amt    4000 non-null float64\n",
      "contb_receipt_dt     4000 non-null object\n",
      "receipt_desc         264 non-null object\n",
      "memo_cd              282 non-null object\n",
      "memo_text            466 non-null object\n",
      "form_tp              4000 non-null object\n",
      "file_num             4000 non-null int64\n",
      "dtypes: float64(1), int64(1), object(14)"
     ]
    }
   ],
   "source": [
    "sampled_df.info()"
   ]
  },
  {
   "cell_type": "code",
   "execution_count": 13,
   "metadata": {
    "scrolled": true
   },
   "outputs": [
    {
     "data": {
      "text/html": [
       "<div style=\"max-height:1000px;max-width:1500px;overflow:auto;\">\n",
       "<table border=\"1\" class=\"dataframe\">\n",
       "  <thead>\n",
       "    <tr style=\"text-align: right;\">\n",
       "      <th></th>\n",
       "      <th>cmte_id</th>\n",
       "      <th>cand_id</th>\n",
       "      <th>cand_nm</th>\n",
       "      <th>contbr_nm</th>\n",
       "      <th>contbr_city</th>\n",
       "      <th>contbr_st</th>\n",
       "      <th>contbr_zip</th>\n",
       "      <th>contbr_employer</th>\n",
       "      <th>contbr_occupation</th>\n",
       "      <th>contb_receipt_amt</th>\n",
       "      <th>contb_receipt_dt</th>\n",
       "      <th>receipt_desc</th>\n",
       "      <th>memo_cd</th>\n",
       "      <th>memo_text</th>\n",
       "      <th>form_tp</th>\n",
       "      <th>file_num</th>\n",
       "    </tr>\n",
       "  </thead>\n",
       "  <tbody>\n",
       "    <tr>\n",
       "      <th>3887586</th>\n",
       "      <td> C00431916</td>\n",
       "      <td> P80000722</td>\n",
       "      <td>      Biden, Joseph R Jr</td>\n",
       "      <td>               SENG, JOE</td>\n",
       "      <td>         DAVENPORT</td>\n",
       "      <td> IA</td>\n",
       "      <td> 528063732</td>\n",
       "      <td>                          STATE OF IOWA</td>\n",
       "      <td>  STATE SENATOR</td>\n",
       "      <td>  500</td>\n",
       "      <td> 29-AUG-07</td>\n",
       "      <td>                        NaN</td>\n",
       "      <td> NaN</td>\n",
       "      <td>                        NaN</td>\n",
       "      <td> SA17A</td>\n",
       "      <td> 733760</td>\n",
       "    </tr>\n",
       "    <tr>\n",
       "      <th>2174437</th>\n",
       "      <td> C00431445</td>\n",
       "      <td> P80003338</td>\n",
       "      <td>           Obama, Barack</td>\n",
       "      <td>         THOMPSON, WENDY</td>\n",
       "      <td>           JACKSON</td>\n",
       "      <td> MS</td>\n",
       "      <td> 392116520</td>\n",
       "      <td>                         BAKER DONELSON</td>\n",
       "      <td>       ATTORNEY</td>\n",
       "      <td>   60</td>\n",
       "      <td> 16-OCT-08</td>\n",
       "      <td>                        NaN</td>\n",
       "      <td> NaN</td>\n",
       "      <td>                        NaN</td>\n",
       "      <td> SA17A</td>\n",
       "      <td> 754317</td>\n",
       "    </tr>\n",
       "    <tr>\n",
       "      <th>4062493</th>\n",
       "      <td> C00446104</td>\n",
       "      <td> P80002801</td>\n",
       "      <td>          McCain, John S</td>\n",
       "      <td> MURCH, CREIGHTON B. MR.</td>\n",
       "      <td> CLEVELAND HEIGHTS</td>\n",
       "      <td> OH</td>\n",
       "      <td> 441063210</td>\n",
       "      <td>                M.H. MURCH COMPANY INC.</td>\n",
       "      <td>    INVESTMENTS</td>\n",
       "      <td> 2300</td>\n",
       "      <td> 04-NOV-08</td>\n",
       "      <td> REDESIGNATION FROM PRIMARY</td>\n",
       "      <td>   X</td>\n",
       "      <td> REDESIGNATION FROM PRIMARY</td>\n",
       "      <td>  SA18</td>\n",
       "      <td> 438755</td>\n",
       "    </tr>\n",
       "    <tr>\n",
       "      <th>3541121</th>\n",
       "      <td> C00431569</td>\n",
       "      <td> P00003392</td>\n",
       "      <td> Clinton, Hillary Rodham</td>\n",
       "      <td>            HUMMER, ANNE</td>\n",
       "      <td>        KENSINGTON</td>\n",
       "      <td> MD</td>\n",
       "      <td> 208951722</td>\n",
       "      <td>                       THE HEINZ CENTER</td>\n",
       "      <td> COMMUNICATIONS</td>\n",
       "      <td>  100</td>\n",
       "      <td> 27-JUN-08</td>\n",
       "      <td>                        NaN</td>\n",
       "      <td> NaN</td>\n",
       "      <td>                        NaN</td>\n",
       "      <td> SA17A</td>\n",
       "      <td> 353643</td>\n",
       "    </tr>\n",
       "    <tr>\n",
       "      <th>1396132</th>\n",
       "      <td> C00431445</td>\n",
       "      <td> P80003338</td>\n",
       "      <td>           Obama, Barack</td>\n",
       "      <td>           BLADE, ROBERT</td>\n",
       "      <td>      JACKSONVILLE</td>\n",
       "      <td> FL</td>\n",
       "      <td> 322074058</td>\n",
       "      <td> FLORIDA COMMUNITY COLLEGE AT JACKSONVI</td>\n",
       "      <td>      PROFESSOR</td>\n",
       "      <td>   50</td>\n",
       "      <td> 19-OCT-08</td>\n",
       "      <td>                        NaN</td>\n",
       "      <td> NaN</td>\n",
       "      <td>                        NaN</td>\n",
       "      <td> SA17A</td>\n",
       "      <td> 754317</td>\n",
       "    </tr>\n",
       "  </tbody>\n",
       "</table>\n",
       "<p>5 rows × 16 columns</p>\n",
       "</div>"
      ],
      "text/plain": [
       "           cmte_id    cand_id                  cand_nm  \\\n",
       "3887586  C00431916  P80000722       Biden, Joseph R Jr   \n",
       "2174437  C00431445  P80003338            Obama, Barack   \n",
       "4062493  C00446104  P80002801           McCain, John S   \n",
       "3541121  C00431569  P00003392  Clinton, Hillary Rodham   \n",
       "1396132  C00431445  P80003338            Obama, Barack   \n",
       "\n",
       "                       contbr_nm        contbr_city contbr_st contbr_zip  \\\n",
       "3887586                SENG, JOE          DAVENPORT        IA  528063732   \n",
       "2174437          THOMPSON, WENDY            JACKSON        MS  392116520   \n",
       "4062493  MURCH, CREIGHTON B. MR.  CLEVELAND HEIGHTS        OH  441063210   \n",
       "3541121             HUMMER, ANNE         KENSINGTON        MD  208951722   \n",
       "1396132            BLADE, ROBERT       JACKSONVILLE        FL  322074058   \n",
       "\n",
       "                                contbr_employer contbr_occupation  \\\n",
       "3887586                           STATE OF IOWA     STATE SENATOR   \n",
       "2174437                          BAKER DONELSON          ATTORNEY   \n",
       "4062493                 M.H. MURCH COMPANY INC.       INVESTMENTS   \n",
       "3541121                        THE HEINZ CENTER    COMMUNICATIONS   \n",
       "1396132  FLORIDA COMMUNITY COLLEGE AT JACKSONVI         PROFESSOR   \n",
       "\n",
       "         contb_receipt_amt contb_receipt_dt                receipt_desc  \\\n",
       "3887586                500        29-AUG-07                         NaN   \n",
       "2174437                 60        16-OCT-08                         NaN   \n",
       "4062493               2300        04-NOV-08  REDESIGNATION FROM PRIMARY   \n",
       "3541121                100        27-JUN-08                         NaN   \n",
       "1396132                 50        19-OCT-08                         NaN   \n",
       "\n",
       "        memo_cd                   memo_text form_tp  file_num  \n",
       "3887586     NaN                         NaN   SA17A    733760  \n",
       "2174437     NaN                         NaN   SA17A    754317  \n",
       "4062493       X  REDESIGNATION FROM PRIMARY    SA18    438755  \n",
       "3541121     NaN                         NaN   SA17A    353643  \n",
       "1396132     NaN                         NaN   SA17A    754317  \n",
       "\n",
       "[5 rows x 16 columns]"
      ]
     },
     "execution_count": 13,
     "metadata": {},
     "output_type": "execute_result"
    }
   ],
   "source": [
    "sampled_df.head()"
   ]
  },
  {
   "cell_type": "code",
   "execution_count": 14,
   "metadata": {
    "scrolled": true
   },
   "outputs": [
    {
     "data": {
      "text/html": [
       "<div style=\"max-height:1000px;max-width:1500px;overflow:auto;\">\n",
       "<table border=\"1\" class=\"dataframe\">\n",
       "  <thead>\n",
       "    <tr style=\"text-align: right;\">\n",
       "      <th></th>\n",
       "      <th>contb_receipt_amt</th>\n",
       "      <th>file_num</th>\n",
       "    </tr>\n",
       "  </thead>\n",
       "  <tbody>\n",
       "    <tr>\n",
       "      <th>count</th>\n",
       "      <td> 4000.000000</td>\n",
       "      <td>   4000.000000</td>\n",
       "    </tr>\n",
       "    <tr>\n",
       "      <th>mean</th>\n",
       "      <td>  251.794398</td>\n",
       "      <td> 547998.448500</td>\n",
       "    </tr>\n",
       "    <tr>\n",
       "      <th>std</th>\n",
       "      <td>  612.400534</td>\n",
       "      <td> 199651.313059</td>\n",
       "    </tr>\n",
       "    <tr>\n",
       "      <th>min</th>\n",
       "      <td>-2300.000000</td>\n",
       "      <td> 285010.000000</td>\n",
       "    </tr>\n",
       "    <tr>\n",
       "      <th>25%</th>\n",
       "      <td>   30.000000</td>\n",
       "      <td> 359395.000000</td>\n",
       "    </tr>\n",
       "    <tr>\n",
       "      <th>50%</th>\n",
       "      <td>  100.000000</td>\n",
       "      <td> 438753.000000</td>\n",
       "    </tr>\n",
       "    <tr>\n",
       "      <th>75%</th>\n",
       "      <td>  250.000000</td>\n",
       "      <td> 753817.000000</td>\n",
       "    </tr>\n",
       "    <tr>\n",
       "      <th>max</th>\n",
       "      <td> 4600.000000</td>\n",
       "      <td> 754317.000000</td>\n",
       "    </tr>\n",
       "  </tbody>\n",
       "</table>\n",
       "<p>8 rows × 2 columns</p>\n",
       "</div>"
      ],
      "text/plain": [
       "       contb_receipt_amt       file_num\n",
       "count        4000.000000    4000.000000\n",
       "mean          251.794398  547998.448500\n",
       "std           612.400534  199651.313059\n",
       "min         -2300.000000  285010.000000\n",
       "25%            30.000000  359395.000000\n",
       "50%           100.000000  438753.000000\n",
       "75%           250.000000  753817.000000\n",
       "max          4600.000000  754317.000000\n",
       "\n",
       "[8 rows x 2 columns]"
      ]
     },
     "execution_count": 14,
     "metadata": {},
     "output_type": "execute_result"
    }
   ],
   "source": [
    "sampled_df.describe()"
   ]
  },
  {
   "cell_type": "markdown",
   "metadata": {},
   "source": [
    "It would be intersting to see the amount of money for each candidate.\n",
    "\n",
    "Q4) Please draw a bar chart to show sum of 'contb_receipt_amout' of each candidate."
   ]
  },
  {
   "cell_type": "code",
   "execution_count": 24,
   "metadata": {
    "collapsed": true
   },
   "outputs": [
    {
     "data": {
      "text/html": [
       "<div style=\"max-height:1000px;max-width:1500px;overflow:auto;\">\n",
       "<table border=\"1\" class=\"dataframe\">\n",
       "  <thead>\n",
       "    <tr style=\"text-align: right;\">\n",
       "      <th></th>\n",
       "      <th>cand_nm</th>\n",
       "      <th>contb_receipt_amt</th>\n",
       "    </tr>\n",
       "  </thead>\n",
       "  <tbody>\n",
       "    <tr>\n",
       "      <th>3887586</th>\n",
       "      <td>      Biden, Joseph R Jr</td>\n",
       "      <td>  500.00</td>\n",
       "    </tr>\n",
       "    <tr>\n",
       "      <th>2174437</th>\n",
       "      <td>           Obama, Barack</td>\n",
       "      <td>   60.00</td>\n",
       "    </tr>\n",
       "    <tr>\n",
       "      <th>4062493</th>\n",
       "      <td>          McCain, John S</td>\n",
       "      <td> 2300.00</td>\n",
       "    </tr>\n",
       "    <tr>\n",
       "      <th>3541121</th>\n",
       "      <td> Clinton, Hillary Rodham</td>\n",
       "      <td>  100.00</td>\n",
       "    </tr>\n",
       "    <tr>\n",
       "      <th>1396132</th>\n",
       "      <td>           Obama, Barack</td>\n",
       "      <td>   50.00</td>\n",
       "    </tr>\n",
       "    <tr>\n",
       "      <th>2993577</th>\n",
       "      <td>           Obama, Barack</td>\n",
       "      <td>   25.00</td>\n",
       "    </tr>\n",
       "    <tr>\n",
       "      <th>1970174</th>\n",
       "      <td>           Obama, Barack</td>\n",
       "      <td>   50.00</td>\n",
       "    </tr>\n",
       "    <tr>\n",
       "      <th>1134974</th>\n",
       "      <td>           Obama, Barack</td>\n",
       "      <td>   75.00</td>\n",
       "    </tr>\n",
       "    <tr>\n",
       "      <th>1469797</th>\n",
       "      <td>           Obama, Barack</td>\n",
       "      <td>  135.75</td>\n",
       "    </tr>\n",
       "    <tr>\n",
       "      <th>3555874</th>\n",
       "      <td> Clinton, Hillary Rodham</td>\n",
       "      <td>  100.00</td>\n",
       "    </tr>\n",
       "    <tr>\n",
       "      <th>3513885</th>\n",
       "      <td> Clinton, Hillary Rodham</td>\n",
       "      <td>   35.00</td>\n",
       "    </tr>\n",
       "    <tr>\n",
       "      <th>1096449</th>\n",
       "      <td>           Obama, Barack</td>\n",
       "      <td>  200.00</td>\n",
       "    </tr>\n",
       "    <tr>\n",
       "      <th>2780278</th>\n",
       "      <td>           Obama, Barack</td>\n",
       "      <td>  250.00</td>\n",
       "    </tr>\n",
       "    <tr>\n",
       "      <th>52593  </th>\n",
       "      <td>          McCain, John S</td>\n",
       "      <td>  101.00</td>\n",
       "    </tr>\n",
       "    <tr>\n",
       "      <th>3579195</th>\n",
       "      <td> Clinton, Hillary Rodham</td>\n",
       "      <td>   25.44</td>\n",
       "    </tr>\n",
       "    <tr>\n",
       "      <th>3807886</th>\n",
       "      <td> Clinton, Hillary Rodham</td>\n",
       "      <td>   10.00</td>\n",
       "    </tr>\n",
       "    <tr>\n",
       "      <th>3692649</th>\n",
       "      <td> Clinton, Hillary Rodham</td>\n",
       "      <td> 2000.00</td>\n",
       "    </tr>\n",
       "    <tr>\n",
       "      <th>3755099</th>\n",
       "      <td> Clinton, Hillary Rodham</td>\n",
       "      <td>   50.00</td>\n",
       "    </tr>\n",
       "    <tr>\n",
       "      <th>1071863</th>\n",
       "      <td>           Obama, Barack</td>\n",
       "      <td>  250.00</td>\n",
       "    </tr>\n",
       "    <tr>\n",
       "      <th>2905462</th>\n",
       "      <td>           Obama, Barack</td>\n",
       "      <td>   25.00</td>\n",
       "    </tr>\n",
       "    <tr>\n",
       "      <th>2768080</th>\n",
       "      <td>           Obama, Barack</td>\n",
       "      <td>   50.00</td>\n",
       "    </tr>\n",
       "    <tr>\n",
       "      <th>3187570</th>\n",
       "      <td>           Obama, Barack</td>\n",
       "      <td>   25.00</td>\n",
       "    </tr>\n",
       "    <tr>\n",
       "      <th>1585865</th>\n",
       "      <td>           Obama, Barack</td>\n",
       "      <td>  200.00</td>\n",
       "    </tr>\n",
       "    <tr>\n",
       "      <th>1814795</th>\n",
       "      <td>           Obama, Barack</td>\n",
       "      <td>  100.00</td>\n",
       "    </tr>\n",
       "    <tr>\n",
       "      <th>2473037</th>\n",
       "      <td>           Obama, Barack</td>\n",
       "      <td> 2300.00</td>\n",
       "    </tr>\n",
       "    <tr>\n",
       "      <th>2090634</th>\n",
       "      <td>           Obama, Barack</td>\n",
       "      <td>  500.00</td>\n",
       "    </tr>\n",
       "    <tr>\n",
       "      <th>1316562</th>\n",
       "      <td>           Obama, Barack</td>\n",
       "      <td>   25.00</td>\n",
       "    </tr>\n",
       "    <tr>\n",
       "      <th>3659942</th>\n",
       "      <td> Clinton, Hillary Rodham</td>\n",
       "      <td> 2100.00</td>\n",
       "    </tr>\n",
       "    <tr>\n",
       "      <th>2783495</th>\n",
       "      <td>           Obama, Barack</td>\n",
       "      <td>  500.00</td>\n",
       "    </tr>\n",
       "    <tr>\n",
       "      <th>692267 </th>\n",
       "      <td>           Obama, Barack</td>\n",
       "      <td>   50.00</td>\n",
       "    </tr>\n",
       "    <tr>\n",
       "      <th>606439 </th>\n",
       "      <td>           Edwards, John</td>\n",
       "      <td>  100.00</td>\n",
       "    </tr>\n",
       "    <tr>\n",
       "      <th>1040407</th>\n",
       "      <td>           Obama, Barack</td>\n",
       "      <td>  100.00</td>\n",
       "    </tr>\n",
       "    <tr>\n",
       "      <th>2999325</th>\n",
       "      <td>           Obama, Barack</td>\n",
       "      <td>  100.00</td>\n",
       "    </tr>\n",
       "    <tr>\n",
       "      <th>453560 </th>\n",
       "      <td>     Giuliani, Rudolph W</td>\n",
       "      <td>  500.00</td>\n",
       "    </tr>\n",
       "    <tr>\n",
       "      <th>3149239</th>\n",
       "      <td>           Obama, Barack</td>\n",
       "      <td>   25.00</td>\n",
       "    </tr>\n",
       "    <tr>\n",
       "      <th>3351839</th>\n",
       "      <td> Clinton, Hillary Rodham</td>\n",
       "      <td>   50.00</td>\n",
       "    </tr>\n",
       "    <tr>\n",
       "      <th>324285 </th>\n",
       "      <td>          McCain, John S</td>\n",
       "      <td>   50.00</td>\n",
       "    </tr>\n",
       "    <tr>\n",
       "      <th>225633 </th>\n",
       "      <td>          McCain, John S</td>\n",
       "      <td>-2300.00</td>\n",
       "    </tr>\n",
       "    <tr>\n",
       "      <th>2934619</th>\n",
       "      <td>           Obama, Barack</td>\n",
       "      <td>  150.00</td>\n",
       "    </tr>\n",
       "    <tr>\n",
       "      <th>3752791</th>\n",
       "      <td> Clinton, Hillary Rodham</td>\n",
       "      <td>  250.00</td>\n",
       "    </tr>\n",
       "    <tr>\n",
       "      <th>2451492</th>\n",
       "      <td>           Obama, Barack</td>\n",
       "      <td>  100.00</td>\n",
       "    </tr>\n",
       "    <tr>\n",
       "      <th>2820672</th>\n",
       "      <td>           Obama, Barack</td>\n",
       "      <td>   25.00</td>\n",
       "    </tr>\n",
       "    <tr>\n",
       "      <th>651247 </th>\n",
       "      <td>           Edwards, John</td>\n",
       "      <td> 1000.00</td>\n",
       "    </tr>\n",
       "    <tr>\n",
       "      <th>3445123</th>\n",
       "      <td> Clinton, Hillary Rodham</td>\n",
       "      <td>  500.00</td>\n",
       "    </tr>\n",
       "    <tr>\n",
       "      <th>3214076</th>\n",
       "      <td>           Obama, Barack</td>\n",
       "      <td>   60.00</td>\n",
       "    </tr>\n",
       "    <tr>\n",
       "      <th>1672316</th>\n",
       "      <td>           Obama, Barack</td>\n",
       "      <td>   25.00</td>\n",
       "    </tr>\n",
       "    <tr>\n",
       "      <th>2225797</th>\n",
       "      <td>           Obama, Barack</td>\n",
       "      <td>   25.00</td>\n",
       "    </tr>\n",
       "    <tr>\n",
       "      <th>822415 </th>\n",
       "      <td>           Obama, Barack</td>\n",
       "      <td>   15.79</td>\n",
       "    </tr>\n",
       "    <tr>\n",
       "      <th>1753719</th>\n",
       "      <td>           Obama, Barack</td>\n",
       "      <td>  200.00</td>\n",
       "    </tr>\n",
       "    <tr>\n",
       "      <th>845643 </th>\n",
       "      <td>           Obama, Barack</td>\n",
       "      <td>   99.99</td>\n",
       "    </tr>\n",
       "    <tr>\n",
       "      <th>2813838</th>\n",
       "      <td>           Obama, Barack</td>\n",
       "      <td>  100.00</td>\n",
       "    </tr>\n",
       "    <tr>\n",
       "      <th>3652979</th>\n",
       "      <td> Clinton, Hillary Rodham</td>\n",
       "      <td>  350.00</td>\n",
       "    </tr>\n",
       "    <tr>\n",
       "      <th>497771 </th>\n",
       "      <td>            Romney, Mitt</td>\n",
       "      <td>  250.00</td>\n",
       "    </tr>\n",
       "    <tr>\n",
       "      <th>3754373</th>\n",
       "      <td> Clinton, Hillary Rodham</td>\n",
       "      <td>   25.00</td>\n",
       "    </tr>\n",
       "    <tr>\n",
       "      <th>3364898</th>\n",
       "      <td> Clinton, Hillary Rodham</td>\n",
       "      <td>   25.00</td>\n",
       "    </tr>\n",
       "    <tr>\n",
       "      <th>386357 </th>\n",
       "      <td>          McCain, John S</td>\n",
       "      <td>  100.00</td>\n",
       "    </tr>\n",
       "    <tr>\n",
       "      <th>67955  </th>\n",
       "      <td>          McCain, John S</td>\n",
       "      <td> 2300.00</td>\n",
       "    </tr>\n",
       "    <tr>\n",
       "      <th>1827912</th>\n",
       "      <td>           Obama, Barack</td>\n",
       "      <td>   50.00</td>\n",
       "    </tr>\n",
       "    <tr>\n",
       "      <th>2070533</th>\n",
       "      <td>           Obama, Barack</td>\n",
       "      <td>   28.12</td>\n",
       "    </tr>\n",
       "    <tr>\n",
       "      <th>209122 </th>\n",
       "      <td>          McCain, John S</td>\n",
       "      <td> 2000.00</td>\n",
       "    </tr>\n",
       "    <tr>\n",
       "      <th></th>\n",
       "      <td>...</td>\n",
       "      <td>...</td>\n",
       "    </tr>\n",
       "  </tbody>\n",
       "</table>\n",
       "<p>4000 rows × 2 columns</p>\n",
       "</div>"
      ],
      "text/plain": [
       "                         cand_nm  contb_receipt_amt\n",
       "3887586       Biden, Joseph R Jr             500.00\n",
       "2174437            Obama, Barack              60.00\n",
       "4062493           McCain, John S            2300.00\n",
       "3541121  Clinton, Hillary Rodham             100.00\n",
       "1396132            Obama, Barack              50.00\n",
       "2993577            Obama, Barack              25.00\n",
       "1970174            Obama, Barack              50.00\n",
       "1134974            Obama, Barack              75.00\n",
       "1469797            Obama, Barack             135.75\n",
       "3555874  Clinton, Hillary Rodham             100.00\n",
       "3513885  Clinton, Hillary Rodham              35.00\n",
       "1096449            Obama, Barack             200.00\n",
       "2780278            Obama, Barack             250.00\n",
       "52593             McCain, John S             101.00\n",
       "3579195  Clinton, Hillary Rodham              25.44\n",
       "3807886  Clinton, Hillary Rodham              10.00\n",
       "3692649  Clinton, Hillary Rodham            2000.00\n",
       "3755099  Clinton, Hillary Rodham              50.00\n",
       "1071863            Obama, Barack             250.00\n",
       "2905462            Obama, Barack              25.00\n",
       "2768080            Obama, Barack              50.00\n",
       "3187570            Obama, Barack              25.00\n",
       "1585865            Obama, Barack             200.00\n",
       "1814795            Obama, Barack             100.00\n",
       "2473037            Obama, Barack            2300.00\n",
       "2090634            Obama, Barack             500.00\n",
       "1316562            Obama, Barack              25.00\n",
       "3659942  Clinton, Hillary Rodham            2100.00\n",
       "2783495            Obama, Barack             500.00\n",
       "692267             Obama, Barack              50.00\n",
       "606439             Edwards, John             100.00\n",
       "1040407            Obama, Barack             100.00\n",
       "2999325            Obama, Barack             100.00\n",
       "453560       Giuliani, Rudolph W             500.00\n",
       "3149239            Obama, Barack              25.00\n",
       "3351839  Clinton, Hillary Rodham              50.00\n",
       "324285            McCain, John S              50.00\n",
       "225633            McCain, John S           -2300.00\n",
       "2934619            Obama, Barack             150.00\n",
       "3752791  Clinton, Hillary Rodham             250.00\n",
       "2451492            Obama, Barack             100.00\n",
       "2820672            Obama, Barack              25.00\n",
       "651247             Edwards, John            1000.00\n",
       "3445123  Clinton, Hillary Rodham             500.00\n",
       "3214076            Obama, Barack              60.00\n",
       "1672316            Obama, Barack              25.00\n",
       "2225797            Obama, Barack              25.00\n",
       "822415             Obama, Barack              15.79\n",
       "1753719            Obama, Barack             200.00\n",
       "845643             Obama, Barack              99.99\n",
       "2813838            Obama, Barack             100.00\n",
       "3652979  Clinton, Hillary Rodham             350.00\n",
       "497771              Romney, Mitt             250.00\n",
       "3754373  Clinton, Hillary Rodham              25.00\n",
       "3364898  Clinton, Hillary Rodham              25.00\n",
       "386357            McCain, John S             100.00\n",
       "67955             McCain, John S            2300.00\n",
       "1827912            Obama, Barack              50.00\n",
       "2070533            Obama, Barack              28.12\n",
       "209122            McCain, John S            2000.00\n",
       "                             ...                ...\n",
       "\n",
       "[4000 rows x 2 columns]"
      ]
     },
     "execution_count": 24,
     "metadata": {},
     "output_type": "execute_result"
    }
   ],
   "source": [
    "grouped = sampled_df.groupby('cand_nm').contb_receipt_amt\n",
    "sampled_df[['cand_nm', 'contb_receipt_amt']]"
   ]
  },
  {
   "cell_type": "code",
   "execution_count": 25,
   "metadata": {
    "collapsed": true
   },
   "outputs": [
    {
     "data": {
      "text/html": [
       "<div style=\"max-height:1000px;max-width:1500px;overflow:auto;\">\n",
       "<table border=\"1\" class=\"dataframe\">\n",
       "  <thead>\n",
       "    <tr style=\"text-align: right;\">\n",
       "      <th></th>\n",
       "      <th>contb_receipt_amt</th>\n",
       "    </tr>\n",
       "    <tr>\n",
       "      <th>cand_nm</th>\n",
       "      <th></th>\n",
       "    </tr>\n",
       "  </thead>\n",
       "  <tbody>\n",
       "    <tr>\n",
       "      <th>Biden, Joseph R Jr</th>\n",
       "      <td>   9682.50</td>\n",
       "    </tr>\n",
       "    <tr>\n",
       "      <th>Brownback, Samuel Dale</th>\n",
       "      <td>     24.00</td>\n",
       "    </tr>\n",
       "    <tr>\n",
       "      <th>Clinton, Hillary Rodham</th>\n",
       "      <td> 149366.82</td>\n",
       "    </tr>\n",
       "    <tr>\n",
       "      <th>Dodd, Christopher J</th>\n",
       "      <td>  20650.00</td>\n",
       "    </tr>\n",
       "    <tr>\n",
       "      <th>Edwards, John</th>\n",
       "      <td>  24367.00</td>\n",
       "    </tr>\n",
       "    <tr>\n",
       "      <th>Giuliani, Rudolph W</th>\n",
       "      <td>  39802.00</td>\n",
       "    </tr>\n",
       "    <tr>\n",
       "      <th>Huckabee, Mike</th>\n",
       "      <td>   7515.08</td>\n",
       "    </tr>\n",
       "    <tr>\n",
       "      <th>Hunter, Duncan</th>\n",
       "      <td>   2420.00</td>\n",
       "    </tr>\n",
       "    <tr>\n",
       "      <th>Kucinich, Dennis J</th>\n",
       "      <td>    500.00</td>\n",
       "    </tr>\n",
       "    <tr>\n",
       "      <th>McCain, John S</th>\n",
       "      <td> 197744.78</td>\n",
       "    </tr>\n",
       "    <tr>\n",
       "      <th>Obama, Barack</th>\n",
       "      <td> 450243.09</td>\n",
       "    </tr>\n",
       "    <tr>\n",
       "      <th>Paul, Ron</th>\n",
       "      <td>  15032.32</td>\n",
       "    </tr>\n",
       "    <tr>\n",
       "      <th>Richardson, Bill</th>\n",
       "      <td>  11595.00</td>\n",
       "    </tr>\n",
       "    <tr>\n",
       "      <th>Romney, Mitt</th>\n",
       "      <td>  61985.00</td>\n",
       "    </tr>\n",
       "    <tr>\n",
       "      <th>Tancredo, Thomas Gerald</th>\n",
       "      <td>   2110.00</td>\n",
       "    </tr>\n",
       "    <tr>\n",
       "      <th>Thompson, Fred Dalton</th>\n",
       "      <td>  13890.00</td>\n",
       "    </tr>\n",
       "    <tr>\n",
       "      <th>Thompson, Tommy G</th>\n",
       "      <td>    250.00</td>\n",
       "    </tr>\n",
       "  </tbody>\n",
       "</table>\n",
       "<p>17 rows × 1 columns</p>\n",
       "</div>"
      ],
      "text/plain": [
       "                         contb_receipt_amt\n",
       "cand_nm                                   \n",
       "Biden, Joseph R Jr                 9682.50\n",
       "Brownback, Samuel Dale               24.00\n",
       "Clinton, Hillary Rodham          149366.82\n",
       "Dodd, Christopher J               20650.00\n",
       "Edwards, John                     24367.00\n",
       "Giuliani, Rudolph W               39802.00\n",
       "Huckabee, Mike                     7515.08\n",
       "Hunter, Duncan                     2420.00\n",
       "Kucinich, Dennis J                  500.00\n",
       "McCain, John S                   197744.78\n",
       "Obama, Barack                    450243.09\n",
       "Paul, Ron                         15032.32\n",
       "Richardson, Bill                  11595.00\n",
       "Romney, Mitt                      61985.00\n",
       "Tancredo, Thomas Gerald            2110.00\n",
       "Thompson, Fred Dalton             13890.00\n",
       "Thompson, Tommy G                   250.00\n",
       "\n",
       "[17 rows x 1 columns]"
      ]
     },
     "execution_count": 25,
     "metadata": {},
     "output_type": "execute_result"
    }
   ],
   "source": [
    "sampled_df[['cand_nm', 'contb_receipt_amt']].groupby('cand_nm').sum()"
   ]
  },
  {
   "cell_type": "code",
   "execution_count": 34,
   "metadata": {},
   "outputs": [
    {
     "data": {
      "text/plain": [
       "<matplotlib.axes.AxesSubplot at 0x7f4ec9bdd438>"
      ]
     },
     "execution_count": 34,
     "metadata": {},
     "output_type": "execute_result"
    },
    {
     "data": {
      "image/png": "[encoded data removed]",
      "text/plain": [
       "<matplotlib.figure.Figure at 0x7f4ec9be04e0>"
      ]
     },
     "metadata": {},
     "output_type": "display_data"
    }
   ],
   "source": [
    "sampled_df.groupby('cand_nm').contb_receipt_amt.sum().plot(kind='bar')\n",
    "#receipt_amt 의 sum을 하고 이를 cand_nm안의 항목별로 그룹화한다.\n",
    "#candidate name을 기준으로 각 이름당 영수증 합"
   ]
  },
  {
   "cell_type": "code",
   "execution_count": null,
   "metadata": {
    "collapsed": true
   },
   "outputs": [],
   "source": []
  },
  {
   "cell_type": "markdown",
   "metadata": {},
   "source": [
    "We want to compute the total amount of donatoins for each day and draw a chart.\n",
    "\n",
    "Q5) In order to do this, change the data type of 'contb_receipt_dt' column to datetime."
   ]
  },
  {
   "cell_type": "code",
   "execution_count": 41,
   "metadata": {
    "collapsed": true
   },
   "outputs": [
    {
     "ename": "TypeError",
     "evalue": "must be str, not Timestamp",
     "output_type": "error",
     "traceback": [
      "\u001b[0;31m---------------------------------------------------------------------------\u001b[0m",
      "\u001b[0;31mTypeError\u001b[0m                                 Traceback (most recent call last)",
      "\u001b[0;32m<ipython-input-41-ce5f08c01201>\u001b[0m in \u001b[0;36m<module>\u001b[0;34m()\u001b[0m\n\u001b[1;32m      1\u001b[0m \u001b[0;32mimport\u001b[0m \u001b[0mdatetime\u001b[0m \u001b[0;32mas\u001b[0m \u001b[0mdt\u001b[0m\u001b[0;34m\u001b[0m\u001b[0m\n\u001b[0;32m----> 2\u001b[0;31m \u001b[0msampled_df\u001b[0m\u001b[0;34m[\u001b[0m\u001b[0;34m'contb_receipt_dt'\u001b[0m\u001b[0;34m]\u001b[0m \u001b[0;34m=\u001b[0m \u001b[0msampled_df\u001b[0m\u001b[0;34m[\u001b[0m\u001b[0;34m'contb_receipt_dt'\u001b[0m\u001b[0;34m]\u001b[0m\u001b[0;34m.\u001b[0m\u001b[0mapply\u001b[0m\u001b[0;34m(\u001b[0m\u001b[0;32mlambda\u001b[0m \u001b[0mx\u001b[0m\u001b[0;34m:\u001b[0m \u001b[0mdt\u001b[0m\u001b[0;34m.\u001b[0m\u001b[0mdatetime\u001b[0m\u001b[0;34m.\u001b[0m\u001b[0mstrptime\u001b[0m\u001b[0;34m(\u001b[0m\u001b[0mx\u001b[0m\u001b[0;34m,\u001b[0m\u001b[0;34m'%d-%b-%y'\u001b[0m\u001b[0;34m)\u001b[0m\u001b[0;34m)\u001b[0m\u001b[0;34m\u001b[0m\u001b[0m\n\u001b[0m\u001b[1;32m      3\u001b[0m \u001b[0;31m#b = string type month names\u001b[0m\u001b[0;34m\u001b[0m\u001b[0;34m\u001b[0m\u001b[0m\n",
      "\u001b[0;32m/usr/lib/python3/dist-packages/pandas/core/series.py\u001b[0m in \u001b[0;36mapply\u001b[0;34m(self, func, convert_dtype, args, **kwds)\u001b[0m\n\u001b[1;32m   2021\u001b[0m             \u001b[0mvalues\u001b[0m \u001b[0;34m=\u001b[0m \u001b[0mlib\u001b[0m\u001b[0;34m.\u001b[0m\u001b[0mmap_infer\u001b[0m\u001b[0;34m(\u001b[0m\u001b[0mvalues\u001b[0m\u001b[0;34m,\u001b[0m \u001b[0mlib\u001b[0m\u001b[0;34m.\u001b[0m\u001b[0mTimestamp\u001b[0m\u001b[0;34m)\u001b[0m\u001b[0;34m\u001b[0m\u001b[0m\n\u001b[1;32m   2022\u001b[0m \u001b[0;34m\u001b[0m\u001b[0m\n\u001b[0;32m-> 2023\u001b[0;31m         \u001b[0mmapped\u001b[0m \u001b[0;34m=\u001b[0m \u001b[0mlib\u001b[0m\u001b[0;34m.\u001b[0m\u001b[0mmap_infer\u001b[0m\u001b[0;34m(\u001b[0m\u001b[0mvalues\u001b[0m\u001b[0;34m,\u001b[0m \u001b[0mf\u001b[0m\u001b[0;34m,\u001b[0m \u001b[0mconvert\u001b[0m\u001b[0;34m=\u001b[0m\u001b[0mconvert_dtype\u001b[0m\u001b[0;34m)\u001b[0m\u001b[0;34m\u001b[0m\u001b[0m\n\u001b[0m\u001b[1;32m   2024\u001b[0m         \u001b[0;32mif\u001b[0m \u001b[0mlen\u001b[0m\u001b[0;34m(\u001b[0m\u001b[0mmapped\u001b[0m\u001b[0;34m)\u001b[0m \u001b[0;32mand\u001b[0m \u001b[0misinstance\u001b[0m\u001b[0;34m(\u001b[0m\u001b[0mmapped\u001b[0m\u001b[0;34m[\u001b[0m\u001b[0;36m0\u001b[0m\u001b[0;34m]\u001b[0m\u001b[0;34m,\u001b[0m \u001b[0mSeries\u001b[0m\u001b[0;34m)\u001b[0m\u001b[0;34m:\u001b[0m\u001b[0;34m\u001b[0m\u001b[0m\n\u001b[1;32m   2025\u001b[0m             \u001b[0;32mfrom\u001b[0m \u001b[0mpandas\u001b[0m\u001b[0;34m.\u001b[0m\u001b[0mcore\u001b[0m\u001b[0;34m.\u001b[0m\u001b[0mframe\u001b[0m \u001b[0;32mimport\u001b[0m \u001b[0mDataFrame\u001b[0m\u001b[0;34m\u001b[0m\u001b[0m\n",
      "\u001b[0;32minference.pyx\u001b[0m in \u001b[0;36mpandas.lib.map_infer (pandas/lib.c:43651)\u001b[0;34m()\u001b[0m\n",
      "\u001b[0;32m<ipython-input-41-ce5f08c01201>\u001b[0m in \u001b[0;36m<lambda>\u001b[0;34m(x)\u001b[0m\n\u001b[1;32m      1\u001b[0m \u001b[0;32mimport\u001b[0m \u001b[0mdatetime\u001b[0m \u001b[0;32mas\u001b[0m \u001b[0mdt\u001b[0m\u001b[0;34m\u001b[0m\u001b[0m\n\u001b[0;32m----> 2\u001b[0;31m \u001b[0msampled_df\u001b[0m\u001b[0;34m[\u001b[0m\u001b[0;34m'contb_receipt_dt'\u001b[0m\u001b[0;34m]\u001b[0m \u001b[0;34m=\u001b[0m \u001b[0msampled_df\u001b[0m\u001b[0;34m[\u001b[0m\u001b[0;34m'contb_receipt_dt'\u001b[0m\u001b[0;34m]\u001b[0m\u001b[0;34m.\u001b[0m\u001b[0mapply\u001b[0m\u001b[0;34m(\u001b[0m\u001b[0;32mlambda\u001b[0m \u001b[0mx\u001b[0m\u001b[0;34m:\u001b[0m \u001b[0mdt\u001b[0m\u001b[0;34m.\u001b[0m\u001b[0mdatetime\u001b[0m\u001b[0;34m.\u001b[0m\u001b[0mstrptime\u001b[0m\u001b[0;34m(\u001b[0m\u001b[0mx\u001b[0m\u001b[0;34m,\u001b[0m\u001b[0;34m'%d-%b-%y'\u001b[0m\u001b[0;34m)\u001b[0m\u001b[0;34m)\u001b[0m\u001b[0;34m\u001b[0m\u001b[0m\n\u001b[0m\u001b[1;32m      3\u001b[0m \u001b[0;31m#b = string type month names\u001b[0m\u001b[0;34m\u001b[0m\u001b[0;34m\u001b[0m\u001b[0m\n",
      "\u001b[0;31mTypeError\u001b[0m: must be str, not Timestamp"
     ]
    }
   ],
   "source": [
    "import datetime as dt\n",
    "sampled_df['contb_receipt_dt'] = sampled_df['contb_receipt_dt'].apply(lambda x: dt.datetime.strptime(x,'%d-%b-%y'))\n",
    "#b = string type month names"
   ]
  },
  {
   "cell_type": "code",
   "execution_count": 42,
   "metadata": {
    "collapsed": true
   },
   "outputs": [
    {
     "data": {
      "text/plain": [
       "3887586   2007-08-29\n",
       "2174437   2008-10-16\n",
       "4062493   2008-11-04\n",
       "3541121   2008-06-27\n",
       "1396132   2008-10-19\n",
       "2993577   2008-06-11\n",
       "1970174   2008-10-16\n",
       "1134974   2008-09-17\n",
       "1469797   2008-09-30\n",
       "3555874   2008-02-08\n",
       "3513885   2008-02-04\n",
       "1096449   2008-10-23\n",
       "2780278   2008-09-16\n",
       "52593     2008-08-04\n",
       "3579195   2008-03-29\n",
       "...\n",
       "3854599   2007-09-30\n",
       "1664820   2008-05-07\n",
       "946077    2008-04-30\n",
       "1280006   2008-03-13\n",
       "2334469   2008-03-21\n",
       "2734756   2008-04-23\n",
       "2159501   2008-09-30\n",
       "3284707   2008-04-24\n",
       "404926    2008-02-05\n",
       "3538951   2007-09-30\n",
       "3112052   2008-09-22\n",
       "2666308   2008-10-21\n",
       "2325374   2008-10-30\n",
       "508014    2008-03-24\n",
       "3099804   2008-10-30\n",
       "Name: contb_receipt_dt, Length: 4000, dtype: datetime64[ns]"
      ]
     },
     "execution_count": 42,
     "metadata": {},
     "output_type": "execute_result"
    }
   ],
   "source": [
    "sampled_df['contb_receipt_dt']"
   ]
  },
  {
   "cell_type": "markdown",
   "metadata": {},
   "source": [
    "Q6) Please compute the total amount of donations for each day, and create a graph for a 'Obama, Barack'"
   ]
  },
  {
   "cell_type": "code",
   "execution_count": null,
   "metadata": {
    "collapsed": true
   },
   "outputs": [],
   "source": []
  },
  {
   "cell_type": "markdown",
   "metadata": {},
   "source": [
    "Q7) Please plot Obama ('Obama, Barack') vs. McCain ('McCain, John S') on the same chart. "
   ]
  },
  {
   "cell_type": "markdown",
   "metadata": {
    "collapsed": true
   },
   "source": [
    "mcCain cand_nm만 뽑아서 \n",
    "영수증 값 그룹기준화해서 sum 하고 \n",
    "\n",
    "날짜별로 기부금액 받은게 얼마나 되는지. \n",
    "plt으로 시각화.\n",
    "label = 표의 레전드\n",
    "맥케인 / 오바마 나눠서 써줌"
   ]
  },
  {
   "cell_type": "code",
   "execution_count": 54,
   "metadata": {},
   "outputs": [
    {
     "data": {
      "text/plain": [
       "<matplotlib.legend.Legend at 0x7f4eeb14a710>"
      ]
     },
     "execution_count": 54,
     "metadata": {},
     "output_type": "execute_result"
    },
    {
     "data": {
      "image/png": "[encoded data removed]",
      "text/plain": [
       "<matplotlib.figure.Figure at 0x7f4eeb14a048>"
      ]
     },
     "metadata": {},
     "output_type": "display_data"
    }
   ],
   "source": [
    "m = sampled_df[['contb_receipt_dt', 'contb_receipt_amt', 'cand_nm' ]]\n",
    "m = m[m['cand_nm']=='McCain, John S']\n",
    "mNew = m[['contb_receipt_dt', 'contb_receipt_amt']]\n",
    "#[[]] makes it dataframe\n",
    "\n",
    "mResult = mNew.groupby('contb_receipt_dt').sum()\n",
    "\n",
    "plt.plot(mResult, label='McCain')\n",
    "plt.legend(loc='best')"
   ]
  },
  {
   "cell_type": "markdown",
   "metadata": {},
   "source": [
    "\n",
    "Q8) Please draw the cumulative donations for Obama ('Obama, Barack') vs. McCain ('McCain, John S')."
   ]
  },
  {
   "cell_type": "markdown",
   "metadata": {
    "collapsed": true
   },
   "source": [
    "cumulative sum\n",
    "누적\n",
    "누적을 하면 마지막이 칸에 총합이 나올것. \n",
    "\n",
    "그룹바이를 하고 시각화"
   ]
  },
  {
   "cell_type": "code",
   "execution_count": null,
   "metadata": {
    "collapsed": true
   },
   "outputs": [],
   "source": []
  },
  {
   "cell_type": "markdown",
   "metadata": {},
   "source": [
    "Q9) Please draw a histogram using 'contb_receipt_amt' for Obama and McCain."
   ]
  },
  {
   "cell_type": "markdown",
   "metadata": {},
   "source": [
    "sampled_df2.head()를 먼저 해석해보기\n",
    "날짜, 금액, 선거후보 이름 표가 나옴.\n",
    "어레이 중에 선거 후보 이름만 뽑아서 객체를 만들고, 그에 대한 histogram을 만든다\n",
    "누적될때마다 계속 0으로 떨어진다음부터는 실질적으로 받은 금액의 누적"
   ]
  },
  {
   "cell_type": "code",
   "execution_count": null,
   "metadata": {
    "collapsed": true
   },
   "outputs": [],
   "source": []
  },
  {
   "cell_type": "markdown",
   "metadata": {},
   "source": [
    "Q10) Now create a cumulative line graph of Obama and McCain' s donations. The x-axis should be the donation amount, and the y-axis should be the cumulative donations up to that amount."
   ]
  },
  {
   "cell_type": "markdown",
   "metadata": {
    "collapsed": true
   },
   "source": []
  },
  {
   "cell_type": "markdown",
   "metadata": {},
   "source": [
    "We can see that even though Obama and McCain have some very large contributions, the vast majority of their total donations were from small contributors. Also, not only did Obama get more donations, he also received larger donations."
   ]
  },
  {
   "cell_type": "markdown",
   "metadata": {},
   "source": [
    "Q11) Scatter plot for all candidates. The x-axis is the donation date and the y-axis is the donation amount."
   ]
  },
  {
   "cell_type": "markdown",
   "metadata": {
    "collapsed": true
   },
   "source": [
    "각 날짜별로 기부를 얼마나 했는지 볼 수 있음. 산점도. \n",
    "for 문: group by 메소드로 나온 결과물 - 그룹의 이름과 result에 대한 오브젝트들\n",
    "    결과물을 맥케인 - 맥케인 그룹, 오바마 - 오바마 그룹 이렇게 계속 나눔\n",
    "    날짜와 금액으로 나누고, label = name"
   ]
  },
  {
   "cell_type": "code",
   "execution_count": null,
   "metadata": {
    "collapsed": true
   },
   "outputs": [],
   "source": []
  }
 ],
 "metadata": {
  "kernelspec": {
   "display_name": "Python 3",
   "language": "python",
   "name": "python3"
  },
  "language_info": {
   "codemirror_mode": {
    "name": "ipython",
    "version": 3
   },
   "file_extension": ".py",
   "mimetype": "text/x-python",
   "name": "python",
   "nbconvert_exporter": "python",
   "pygments_lexer": "ipython3",
   "version": "3.4.3"
  }
 },
 "nbformat": 4,
 "nbformat_minor": 1
}
