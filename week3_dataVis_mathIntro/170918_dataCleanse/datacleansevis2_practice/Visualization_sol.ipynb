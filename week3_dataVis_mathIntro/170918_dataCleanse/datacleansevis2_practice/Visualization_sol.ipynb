{
 "cells": [
  {
   "cell_type": "markdown",
   "metadata": {},
   "source": [
    "# Plotting and Visualization"
   ]
  },
  {
   "cell_type": "code",
   "execution_count": 1,
   "metadata": {
    "collapsed": true
   },
   "outputs": [],
   "source": [
    "from __future__ import division\n",
    "\n",
    "import numpy as np\n",
    "np.random.seed(12345)\n",
    "np.set_printoptions(precision=4)\n",
    "\n",
    "import pandas as pd\n",
    "from pandas import Series, DataFrame\n",
    "\n",
    "import matplotlib.pyplot as plt"
   ]
  },
  {
   "cell_type": "code",
   "execution_count": 2,
   "metadata": {
    "collapsed": true
   },
   "outputs": [],
   "source": [
    "%matplotlib inline\n",
    "plt.rc('figure', figsize=(10, 6))"
   ]
  },
  {
   "cell_type": "code",
   "execution_count": 3,
   "metadata": {},
   "outputs": [],
   "source": [
    "add = %pwd"
   ]
  },
  {
   "cell_type": "markdown",
   "metadata": {},
   "source": [
    "Q1)Please read the data files."
   ]
  },
  {
   "cell_type": "code",
   "execution_count": 4,
   "metadata": {},
   "outputs": [
    {
     "name": "stderr",
     "output_type": "stream",
     "text": [
      "/usr/lib/python3/dist-packages/pandas/io/parsers.py:1070: DtypeWarning: Columns (6,12) have mixed types. Specify dtype option on import or set low_memory=False.\n",
      "  data = self._reader.read(nrows)\n"
     ]
    }
   ],
   "source": [
    "df = pd.read_csv('donations.csv')"
   ]
  },
  {
   "cell_type": "code",
   "execution_count": 6,
   "metadata": {},
   "outputs": [
    {
     "name": "stderr",
     "output_type": "stream",
     "text": [
      "/usr/lib/python3/dist-packages/pandas/io/parsers.py:1070: DtypeWarning: Columns (6,12) have mixed types. Specify dtype option on import or set low_memory=False.\n",
      "  data = self._reader.read(nrows)\n"
     ]
    }
   ],
   "source": [
    "data = open(add + '/donations.csv', 'r')\n",
    "df = pd.read_csv(data)"
   ]
  },
  {
   "cell_type": "markdown",
   "metadata": {},
   "source": [
    "Q2) Please display the information on the data. How much data are we dealing with? What are the names of colums?"
   ]
  },
  {
   "cell_type": "code",
   "execution_count": 7,
   "metadata": {},
   "outputs": [
    {
     "name": "stdout",
     "output_type": "stream",
     "text": [
      "<class 'pandas.core.frame.DataFrame'>\n",
      "Int64Index: 4084074 entries, 0 to 4084073\n",
      "Data columns (total 16 columns):\n",
      "cmte_id              object\n",
      "cand_id              object\n",
      "cand_nm              object\n",
      "contbr_nm            object\n",
      "contbr_city          object\n",
      "contbr_st            object\n",
      "contbr_zip           object\n",
      "contbr_employer      object\n",
      "contbr_occupation    object\n",
      "contb_receipt_amt    float64\n",
      "contb_receipt_dt     object\n",
      "receipt_desc         object\n",
      "memo_cd              object\n",
      "memo_text            object\n",
      "form_tp              object\n",
      "file_num             int64\n",
      "dtypes: float64(1), int64(1), object(14)"
     ]
    }
   ],
   "source": [
    "df.info()"
   ]
  },
  {
   "cell_type": "markdown",
   "metadata": {},
   "source": [
    "The size of the data is huge. It is better to use a small data set.\n",
    "\n",
    "Q3) Make a sample of which the size is 4000. (HINT: numpy.random.choice())"
   ]
  },
  {
   "cell_type": "code",
   "execution_count": 8,
   "metadata": {
    "collapsed": true
   },
   "outputs": [],
   "source": [
    "rows = np.random.choice(df.index.values, 4000)\n",
    "sampled_df = df.ix[rows]"
   ]
  },
  {
   "cell_type": "code",
   "execution_count": null,
   "metadata": {},
   "outputs": [],
   "source": [
    "sampled_df.info()"
   ]
  },
  {
   "cell_type": "code",
   "execution_count": null,
   "metadata": {},
   "outputs": [],
   "source": [
    "sampled_df.head()"
   ]
  },
  {
   "cell_type": "code",
   "execution_count": null,
   "metadata": {},
   "outputs": [],
   "source": [
    "sampled_df.describe()"
   ]
  },
  {
   "cell_type": "markdown",
   "metadata": {},
   "source": [
    "It would be intersting to see the amount of money for each candidate.\n",
    "\n",
    "Q4) Please draw a bar chart to show sum of 'contb_receipt_amout' of each candidate."
   ]
  },
  {
   "cell_type": "code",
   "execution_count": null,
   "metadata": {},
   "outputs": [],
   "source": [
    "sampled_df.groupby('cand_nm').contb_receipt_amt.sum().plot.bar()"
   ]
  },
  {
   "cell_type": "markdown",
   "metadata": {},
   "source": [
    "We want to compute the total amount of donatoins for each day and draw a chart.\n",
    "\n",
    "Q5) In order to do this, change the data type of 'contb_receipt_dt' column to datetime."
   ]
  },
  {
   "cell_type": "code",
   "execution_count": null,
   "metadata": {
    "collapsed": true
   },
   "outputs": [],
   "source": [
    "import datetime as dt\n",
    "sampled_df['contb_receipt_dt'] = sampled_df['contb_receipt_dt'].apply(lambda x: dt.datetime.strptime(x,'%d-%b-%y'))"
   ]
  },
  {
   "cell_type": "code",
   "execution_count": null,
   "metadata": {
    "collapsed": true
   },
   "outputs": [],
   "source": [
    "sampled_df['contb_receipt_dt'] = pd.to_datetime(sampled_df['contb_receipt_dt'],format=\"%d-%b-%y\")"
   ]
  },
  {
   "cell_type": "markdown",
   "metadata": {},
   "source": [
    "Q6) Please compute the total amount of donations for each day, and create a graph for a 'Obama, Barack'"
   ]
  },
  {
   "cell_type": "code",
   "execution_count": null,
   "metadata": {},
   "outputs": [],
   "source": [
    "obama = sampled_df[['contb_receipt_dt','contb_receipt_amt','cand_nm']]\n",
    "obama = obama[obama['cand_nm']=='Obama, Barack']\n",
    "obama_new = obama[['contb_receipt_dt','contb_receipt_amt']]\n",
    "result = obama_new.groupby('contb_receipt_dt').sum()\n",
    "result.plot()"
   ]
  },
  {
   "cell_type": "markdown",
   "metadata": {},
   "source": [
    "Q7) Please plot Obama ('Obama, Barack') vs. McCain ('McCain, John S') on the same chart. "
   ]
  },
  {
   "cell_type": "code",
   "execution_count": null,
   "metadata": {},
   "outputs": [],
   "source": [
    "mcCain = sampled_df[['contb_receipt_dt','contb_receipt_amt','cand_nm']]\n",
    "mcCain = mcCain[mcCain['cand_nm']=='McCain, John S']\n",
    "mcCain_new = mcCain[['contb_receipt_dt','contb_receipt_amt']]\n",
    "result2 = mcCain_new.groupby('contb_receipt_dt').sum()\n",
    "\n",
    "plt.plot(result,label='Obama')label을 이름으로. 각 날짜별로 기부를 얼마나 했는지 볼 수 있음. \n",
    "산점도. \n",
    "plt.plot(result2,label='McCain')\n",
    "plt.legend(loc='best')"
   ]
  },
  {
   "cell_type": "code",
   "execution_count": null,
   "metadata": {},
   "outputs": [],
   "source": [
    "sampled_df2 = sampled_df[['contb_receipt_dt','contb_receipt_amt','cand_nm']]\n",
    "sampled_df2 = sampled_df2[sampled_df2['cand_nm'].isin(['Obama, Barack','McCain, John S'])]\n",
    "\n",
    "groups = sampled_df2.groupby('cand_nm')\n",
    "for name, group in groups:\n",
    "    result = group.groupby('contb_receipt_dt').sum()\n",
    "    plt.plot(result,label=name)\n",
    "\n",
    "plt.legend(loc='best')"
   ]
  },
  {
   "cell_type": "markdown",
   "metadata": {},
   "source": [
    "Q8) Please draw the cumulative donations for Obama ('Obama, Barack') vs. McCain ('McCain, John S')."
   ]
  },
  {
   "cell_type": "code",
   "execution_count": null,
   "metadata": {},
   "outputs": [],
   "source": [
    "plt.plot(result.cumsum(),label='Obama')\n",
    "plt.plot(result2.cumsum(),label='McCain')\n",
    "plt.legend(loc='best')"
   ]
  },
  {
   "cell_type": "code",
   "execution_count": null,
   "metadata": {},
   "outputs": [],
   "source": [
    "#sampled_df2 = sampled_df[['contb_receipt_dt','contb_receipt_amt','cand_nm']]\n",
    "#sampled_df2 = sampled_df2[sampled_df2['cand_nm'].isin(['Obama, Barack','McCain, John S'])]\n",
    "\n",
    "#groups = sampled_df2.groupby('cand_nm')\n",
    "\n",
    "for name, group in groups:\n",
    "    result = group.groupby('contb_receipt_dt').sum()\n",
    "    plt.plot(result.cumsum(),label=name)\n",
    "\n",
    "plt.legend(loc='best')"
   ]
  },
  {
   "cell_type": "markdown",
   "metadata": {},
   "source": [
    "Q9) Please draw a histogram using 'contb_receipt_amt' for Obama and McCain."
   ]
  },
  {
   "cell_type": "code",
   "execution_count": null,
   "metadata": {},
   "outputs": [],
   "source": [
    "# sampled_df2 = sampled_df[['contb_receipt_dt','contb_receipt_amt','cand_nm']]\n",
    "# sampled_df2 = sampled_df2[sampled_df2['cand_nm'].isin(['Obama, Barack','McCain, John S'])]\n",
    "\n",
    "for name in sampled_df2.cand_nm.unique():\n",
    "    comp = sampled_df2[sampled_df2['cand_nm']==name]\n",
    "    comp['contb_receipt_amt'].hist(bins=50, alpha=0.6, label=name)"
   ]
  },
  {
   "cell_type": "markdown",
   "metadata": {},
   "source": [
    "Q10) Now create a cumulative line graph of Obama and McCain' s donations. The x-axis should be the donation amount, and the y-axis should be the cumulative donations up to that amount."
   ]
  },
  {
   "cell_type": "code",
   "execution_count": null,
   "metadata": {},
   "outputs": [],
   "source": [
    "obama = sampled_df[['contb_receipt_amt','cand_nm']]\n",
    "obama = obama[obama['cand_nm']=='Obama, Barack']\n",
    "result = obama.sort_values(['contb_receipt_amt'])\n",
    "\n",
    "mccain = sampled_df[['contb_receipt_amt','cand_nm']]\n",
    "mccain = mccain[mccain['cand_nm']=='McCain, John S']\n",
    "result2 = mccain.sort_values(['contb_receipt_amt'])\n",
    "\n",
    "plt.plot(result['contb_receipt_amt'], result['contb_receipt_amt'].cumsum(0), label='Obama')\n",
    "plt.plot(result2['contb_receipt_amt'], result2['contb_receipt_amt'].cumsum(0), label='McCain')\n",
    "plt.legend(loc='best')"
   ]
  },
  {
   "cell_type": "code",
   "execution_count": null,
   "metadata": {},
   "outputs": [],
   "source": [
    "#sampled_df2 = sampled_df[['contb_receipt_dt','contb_receipt_amt','cand_nm']]\n",
    "#sampled_df2 = sampled_df2[sampled_df2['cand_nm'].isin(['Obama, Barack','McCain, John S'])]\n",
    "\n",
    "#groups = sampled_df2.groupby('cand_nm')\n",
    "for name, group in groups:\n",
    "    result = group.sort_values('contb_receipt_amt')\n",
    "    plt.plot(result.contb_receipt_amt,result.contb_receipt_amt.cumsum(0),label=name)\n",
    "\n",
    "plt.legend(loc='best')"
   ]
  },
  {
   "cell_type": "markdown",
   "metadata": {},
   "source": [
    "We can see that even though Obama and McCain have some very large contributions, the vast majority of their total donations were from small contributors. Also, not only did Obama get more donations, he also received larger donations."
   ]
  },
  {
   "cell_type": "markdown",
   "metadata": {},
   "source": [
    "Q11) Scatter plot for all candidates. The x-axis is the donation date and the y-axis is the donation amount."
   ]
  },
  {
   "cell_type": "code",
   "execution_count": null,
   "metadata": {},
   "outputs": [],
   "source": [
    "sampled_df3 = sampled_df[['contb_receipt_dt','contb_receipt_amt','cand_nm']]\n",
    "groups = sampled_df3.groupby('cand_nm')\n",
    "for name, group in groups:\n",
    "    # plt.scatter(group.contb_receipt_dt.dt.to_pydatetime(), \n",
    "    plt.scatter(group.contb_receipt_dt.values,\n",
    "                group.contb_receipt_amt,label=name)\n",
    "plt.legend()\n",
    "plt.show()"
   ]
  },
  {
   "cell_type": "code",
   "execution_count": null,
   "metadata": {
    "collapsed": true
   },
   "outputs": [],
   "source": []
  }
 ],
 "metadata": {
  "kernelspec": {
   "display_name": "Python 3",
   "language": "python",
   "name": "python3"
  },
  "language_info": {
   "codemirror_mode": {
    "name": "ipython",
    "version": 3
   },
   "file_extension": ".py",
   "mimetype": "text/x-python",
   "name": "python",
   "nbconvert_exporter": "python",
   "pygments_lexer": "ipython3",
   "version": "3.4.3"
  }
 },
 "nbformat": 4,
 "nbformat_minor": 1
}
